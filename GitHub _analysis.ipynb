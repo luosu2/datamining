{
 "cells": [
  {
   "cell_type": "markdown",
   "id": "9fe2ea10d349b698",
   "metadata": {
    "collapsed": false
   },
   "source": [
    "# 数据集2: GitHub Dataset\n",
    " 1. 数据摘要\n",
    "    1.1属性\n",
    "+ `name` 仓库的名称\n",
    "+ `stars_count` 仓库的star数量\n",
    "+ `forks_count` 仓库的fork数量\n",
    "+ `watchers` 仓库当前有多少观看者\n",
    "+ `pull_requests` 拉取该仓库的请求数量\n",
    "+ `primary_language` 仓库主要使用的编程语言\n",
    "+ `languages_used` 该仓库所有使用过的编程语言的列表\n",
    "+ `commit_count` 该仓库的提交记录数量\n",
    "+ `create_at` 仓库创建的时间和日期\n",
    "+ ` license` 这个仓库使用的证书"
   ]
  },
  {
   "cell_type": "code",
   "execution_count": 1,
   "id": "81604acd2ecb90dc",
   "metadata": {
    "collapsed": false,
    "ExecuteTime": {
     "end_time": "2024-03-28T18:17:03.535736600Z",
     "start_time": "2024-03-28T18:16:55.681350400Z"
    }
   },
   "outputs": [
    {
     "data": {
      "text/plain": "['name',\n 'stars_count',\n 'forks_count',\n 'watchers',\n 'pull_requests',\n 'primary_language',\n 'languages_used',\n 'commit_count',\n 'created_at',\n 'licence']"
     },
     "execution_count": 1,
     "metadata": {},
     "output_type": "execute_result"
    }
   ],
   "source": [
    "import pandas as pd\n",
    "github=pd.read_csv('dataset/repository_data.csv')\n",
    "github.columns.tolist()"
   ]
  },
  {
   "cell_type": "markdown",
   "id": "55c19b4548c2aa03",
   "metadata": {
    "collapsed": false
   },
   "source": [
    "   1.2 标称属性可能取值的频数\n",
    "+ `name` 仓库的名称"
   ]
  },
  {
   "cell_type": "code",
   "execution_count": 4,
   "id": "4b08fd36f8c07c1",
   "metadata": {
    "collapsed": false,
    "ExecuteTime": {
     "end_time": "2024-03-28T18:19:49.606658100Z",
     "start_time": "2024-03-28T18:19:46.989165600Z"
    }
   },
   "outputs": [
    {
     "data": {
      "text/plain": "name\ndotfiles                                 5590\nblog                                     2038\ndocs                                     1350\nwebsite                                  1163\nscripts                                   649\n                                         ... \nmarkdown-to-presentation                    1\nmoodle-client                               1\nevent-sourcing-graph                        1\nreact-native-100-Demos                      1\nMSI-Z690-Carbon-i7-12700KF-Hackintosh       1\nName: count, Length: 2410862, dtype: int64"
     },
     "execution_count": 4,
     "metadata": {},
     "output_type": "execute_result"
    }
   ],
   "source": [
    "github['name'].value_counts()"
   ]
  },
  {
   "cell_type": "markdown",
   "id": "92635c3df62260bf",
   "metadata": {
    "collapsed": false
   },
   "source": [
    "+ `primary_language` 主要使用的编程语言"
   ]
  },
  {
   "cell_type": "code",
   "execution_count": 5,
   "id": "f8ceb963415ec6e8",
   "metadata": {
    "collapsed": false,
    "ExecuteTime": {
     "end_time": "2024-03-28T18:19:53.428818200Z",
     "start_time": "2024-03-28T18:19:53.396810500Z"
    }
   },
   "outputs": [
    {
     "data": {
      "text/plain": "primary_language\nJavaScript              451954\nPython                  451473\nJava                    202394\nC++                     150066\nPHP                     116058\n                         ...  \nLoomScript                   1\nRagel in Ruby Host           1\nEdje Data Collection         1\nSieve                        1\nOx                           1\nName: count, Length: 497, dtype: int64"
     },
     "execution_count": 5,
     "metadata": {},
     "output_type": "execute_result"
    }
   ],
   "source": [
    "github['primary_language'].value_counts()"
   ]
  },
  {
   "cell_type": "markdown",
   "id": "6bbb074d77b54012",
   "metadata": {
    "collapsed": false
   },
   "source": [
    "+ `languages_used` 使用过的所有语言列表"
   ]
  },
  {
   "cell_type": "code",
   "execution_count": 3,
   "id": "2b96dc52c98e18f6",
   "metadata": {
    "collapsed": false,
    "ExecuteTime": {
     "end_time": "2024-03-28T18:19:18.386884200Z",
     "start_time": "2024-03-28T18:19:18.280886200Z"
    }
   },
   "outputs": [
    {
     "data": {
      "text/plain": "languages_used\n['Python']                                                        257679\n['JavaScript']                                                    157741\n['Java']                                                          117624\n['C#']                                                             60299\n['PHP']                                                            56333\n                                                                   ...  \n['Svelte', 'TypeScript', 'JavaScript', 'HTML', 'CSS', 'Rust']          1\n['Dockerfile', 'Shell', 'JavaScript', 'PowerShell']                    1\n['TypeScript', 'HTML', 'Vue', 'JavaScript', 'Python', 'Shell']         1\n['C++', 'C', 'Pascal', 'Batchfile', 'GDB']                             1\n['HTML', 'C++', 'TypeScript', 'JavaScript']                            1\nName: count, Length: 328148, dtype: int64"
     },
     "execution_count": 3,
     "metadata": {},
     "output_type": "execute_result"
    }
   ],
   "source": [
    "github['languages_used'].value_counts()"
   ]
  },
  {
   "cell_type": "markdown",
   "id": "3a90119b351c1b0c",
   "metadata": {
    "collapsed": false
   },
   "source": [
    "+ `licence` 选择的开源协议"
   ]
  },
  {
   "cell_type": "code",
   "execution_count": 2,
   "id": "84cfe56271e33d4a",
   "metadata": {
    "collapsed": false,
    "ExecuteTime": {
     "end_time": "2024-03-28T18:19:13.020975Z",
     "start_time": "2024-03-28T18:19:12.977422700Z"
    }
   },
   "outputs": [
    {
     "data": {
      "text/plain": "licence\nMIT License                                                   784251\nApache License 2.0                                            210698\nOther                                                         167987\nGNU General Public License v3.0                               159443\nBSD 3-Clause \"New\" or \"Revised\" License                        47078\nGNU General Public License v2.0                                43297\nGNU Affero General Public License v3.0                         21554\nBSD 2-Clause \"Simplified\" License                              16819\nThe Unlicense                                                  14400\nGNU Lesser General Public License v3.0                         14002\nMozilla Public License 2.0                                     10668\nCreative Commons Zero v1.0 Universal                           10353\nISC License                                                     8232\nGNU Lesser General Public License v2.1                          6168\nEclipse Public License 1.0                                      3699\nDo What The F*ck You Want To Public License                     3493\nCreative Commons Attribution 4.0 International                  3292\nCreative Commons Attribution Share Alike 4.0 International      2664\nMIT No Attribution                                              2193\nzlib License                                                    1512\nBoost Software License 1.0                                      1421\nEclipse Public License 2.0                                      1206\nBSD Zero Clause License                                          770\nSIL Open Font License 1.1                                        761\nArtistic License 2.0                                             685\nOpen Software License 3.0                                        644\nMicrosoft Public License                                         470\nEuropean Union Public License 1.2                                429\nBSD 3-Clause Clear License                                       295\nLaTeX Project Public License v1.3c                               266\nBSD 4-Clause \"Original\" or \"Old\" License                         251\nUniversal Permissive License v1.0                                193\nAcademic Free License v3.0                                       143\nEuropean Union Public License 1.1                                 93\nUniversity of Illinois/NCSA Open Source License                   90\nPostgreSQL License                                                66\nOpen Data Commons Open Database License v1.0                      57\nEducational Community License v2.0                                25\nMulan Permissive Software License, Version 2                      20\nVim License                                                       20\nCeCILL Free Software License Agreement v2.1                       19\nMicrosoft Reciprocal License                                      15\nCERN Open Hardware Licence Version 2 - Permissive                  4\nCERN Open Hardware Licence Version 2 - Strongly Reciprocal         2\nCERN Open Hardware Licence Version 2 - Weakly Reciprocal           2\nGNU Free Documentation License v1.3                                1\nName: count, dtype: int64"
     },
     "execution_count": 2,
     "metadata": {},
     "output_type": "execute_result"
    }
   ],
   "source": [
    "github['licence'].value_counts()"
   ]
  },
  {
   "cell_type": "markdown",
   "id": "aecb4f52f2d550c2",
   "metadata": {
    "collapsed": false
   },
   "source": [
    "1.3 数值属性的五数概括\n",
    "    缺失值的个数统计"
   ]
  },
  {
   "cell_type": "code",
   "execution_count": 6,
   "id": "42bc1b917e49c73d",
   "metadata": {
    "collapsed": false,
    "ExecuteTime": {
     "end_time": "2024-03-28T18:22:59.318724Z",
     "start_time": "2024-03-28T18:22:58.572412Z"
    }
   },
   "outputs": [
    {
     "data": {
      "text/plain": "                name  primary_language  languages_used  commit_count  licence\nmissing_values    13            218573          221984          1921  1378200",
      "text/html": "<div>\n<style scoped>\n    .dataframe tbody tr th:only-of-type {\n        vertical-align: middle;\n    }\n\n    .dataframe tbody tr th {\n        vertical-align: top;\n    }\n\n    .dataframe thead th {\n        text-align: right;\n    }\n</style>\n<table border=\"1\" class=\"dataframe\">\n  <thead>\n    <tr style=\"text-align: right;\">\n      <th></th>\n      <th>name</th>\n      <th>primary_language</th>\n      <th>languages_used</th>\n      <th>commit_count</th>\n      <th>licence</th>\n    </tr>\n  </thead>\n  <tbody>\n    <tr>\n      <th>missing_values</th>\n      <td>13</td>\n      <td>218573</td>\n      <td>221984</td>\n      <td>1921</td>\n      <td>1378200</td>\n    </tr>\n  </tbody>\n</table>\n</div>"
     },
     "execution_count": 6,
     "metadata": {},
     "output_type": "execute_result"
    }
   ],
   "source": [
    "missing_values=github.isnull().sum()\n",
    "missing_values=pd.DataFrame(missing_values,columns=['missing_values']).T\n",
    "missing_values=missing_values.loc[:,(missing_values!=0).any(axis=0)]\n",
    "missing_values"
   ]
  },
  {
   "cell_type": "markdown",
   "id": "2675ab724552c716",
   "metadata": {
    "collapsed": false
   },
   "source": [
    "+ `stars_count` 仓库获得的星星\n",
    "`stars_count` 属性的五数概括"
   ]
  },
  {
   "cell_type": "code",
   "execution_count": 11,
   "id": "b90a705ddc57e80d",
   "metadata": {
    "collapsed": false,
    "ExecuteTime": {
     "end_time": "2024-03-28T18:26:07.743972900Z",
     "start_time": "2024-03-28T18:26:07.614414400Z"
    }
   },
   "outputs": [
    {
     "data": {
      "text/plain": "min         2.0\n25%         7.0\n50%        12.0\n75%        30.0\nmax    359805.0\nName: stars_count, dtype: float64"
     },
     "execution_count": 11,
     "metadata": {},
     "output_type": "execute_result"
    }
   ],
   "source": [
    "num_stars_count = pd.to_numeric(github['stars_count'].dropna())\n",
    "num_stars_count.describe()[3:]"
   ]
  },
  {
   "cell_type": "markdown",
   "id": "72434d0f20960ceb",
   "metadata": {
    "collapsed": false
   },
   "source": [
    "+ `forks_count` 仓库的分支数量"
   ]
  },
  {
   "cell_type": "code",
   "execution_count": 13,
   "id": "6e5c9ab8a4de451e",
   "metadata": {
    "collapsed": false,
    "ExecuteTime": {
     "end_time": "2024-03-28T18:27:17.948342400Z",
     "start_time": "2024-03-28T18:27:17.821776500Z"
    }
   },
   "outputs": [
    {
     "data": {
      "text/plain": "min         0.0\n25%         1.0\n50%         4.0\n75%        11.0\nmax    242208.0\nName: forks_count, dtype: float64"
     },
     "execution_count": 13,
     "metadata": {},
     "output_type": "execute_result"
    }
   ],
   "source": [
    "num_forks_count = pd.to_numeric(github['forks_count'].dropna())\n",
    "num_forks_count.describe()[3:]"
   ]
  },
  {
   "cell_type": "markdown",
   "id": "b828a8144551e35",
   "metadata": {
    "collapsed": false
   },
   "source": [
    "+ `watchers` 查看者数量"
   ]
  },
  {
   "cell_type": "code",
   "execution_count": 12,
   "id": "91d23e9809a71cef",
   "metadata": {
    "collapsed": false,
    "ExecuteTime": {
     "end_time": "2024-03-28T18:27:16.942776700Z",
     "start_time": "2024-03-28T18:27:16.801244700Z"
    }
   },
   "outputs": [
    {
     "data": {
      "text/plain": "min       0.0\n25%       2.0\n50%       3.0\n75%       6.0\nmax    9544.0\nName: watchers, dtype: float64"
     },
     "execution_count": 12,
     "metadata": {},
     "output_type": "execute_result"
    }
   ],
   "source": [
    "num_watchers = pd.to_numeric(github['watchers'].dropna())\n",
    "num_watchers.describe()[3:]"
   ]
  },
  {
   "cell_type": "markdown",
   "id": "1e88322385e667b",
   "metadata": {
    "collapsed": false
   },
   "source": [
    "+ `pull_requests` 拉取请求数"
   ]
  },
  {
   "cell_type": "code",
   "execution_count": 15,
   "id": "4f56a896db03ec24",
   "metadata": {
    "collapsed": false,
    "ExecuteTime": {
     "end_time": "2024-03-28T18:29:36.891509600Z",
     "start_time": "2024-03-28T18:29:36.732430800Z"
    }
   },
   "outputs": [
    {
     "data": {
      "text/plain": "min         0.0\n25%         0.0\n50%         1.0\n75%         6.0\nmax    301585.0\nName: pull_requests, dtype: float64"
     },
     "execution_count": 15,
     "metadata": {},
     "output_type": "execute_result"
    }
   ],
   "source": [
    "num_pull_requests = pd.to_numeric(github['pull_requests'].dropna())\n",
    "num_pull_requests.describe()[3:]"
   ]
  },
  {
   "cell_type": "markdown",
   "source": [
    "+`commit_count`提交次数"
   ],
   "metadata": {
    "collapsed": false
   },
   "id": "dbb0b20f9dc7311b"
  },
  {
   "cell_type": "code",
   "outputs": [],
   "source": [
    "num_commit_count = pd.to_numeric(github['commit_count'].dropna())\n",
    "num_commit_count.describe()[3:]"
   ],
   "metadata": {
    "collapsed": false,
    "ExecuteTime": {
     "start_time": "2024-03-28T18:43:34.784365500Z"
    }
   },
   "id": "a151f7c4dd827920",
   "execution_count": null
  },
  {
   "cell_type": "markdown",
   "source": [
    "+ `created_at` 创建时间(年)"
   ],
   "metadata": {
    "collapsed": false
   },
   "id": "97154dbebbc78320"
  },
  {
   "cell_type": "code",
   "outputs": [],
   "source": [
    "year_counts = pd.to_datetime(github['created_at']).dt.year\n",
    "year_counts.describe()[3:]"
   ],
   "metadata": {
    "collapsed": false,
    "ExecuteTime": {
     "start_time": "2024-03-28T18:43:34.780364600Z"
    }
   },
   "id": "718bf025278fde02",
   "execution_count": null
  },
  {
   "cell_type": "markdown",
   "id": "b1dbf1c7a52c7b35",
   "metadata": {
    "collapsed": false
   },
   "source": [
    "# 2.数据可视化\n",
    "    2.1 主要使用的编程语言"
   ]
  },
  {
   "cell_type": "code",
   "execution_count": 25,
   "id": "3ecfc9def552601d",
   "metadata": {
    "collapsed": false,
    "ExecuteTime": {
     "end_time": "2024-03-28T18:32:45.628326700Z",
     "start_time": "2024-03-28T18:32:45.384080Z"
    }
   },
   "outputs": [
    {
     "data": {
      "text/plain": "<Figure size 640x480 with 1 Axes>",
      "image/png": "[encoded data removed]"
     },
     "metadata": {},
     "output_type": "display_data"
    }
   ],
   "source": [
    "import matplotlib.pyplot as plt\n",
    "category_counts = github['primary_language'].value_counts().sort_values(ascending=False)[:20]\n",
    "plt.barh(category_counts.index,category_counts.values)\n",
    "plt.show()"
   ]
  },
  {
   "cell_type": "markdown",
   "id": "e0f85196ee682e7a",
   "metadata": {
    "collapsed": false
   },
   "source": [
    "    2.2 仓库创建时间 属性的直方图"
   ]
  },
  {
   "cell_type": "code",
   "execution_count": 31,
   "id": "506b31abdc2118c4",
   "metadata": {
    "collapsed": false,
    "ExecuteTime": {
     "end_time": "2024-03-28T18:44:39.708072200Z",
     "start_time": "2024-03-28T18:44:39.493589Z"
    }
   },
   "outputs": [
    {
     "data": {
      "text/plain": "<Figure size 640x480 with 1 Axes>",
      "image/png": "[encoded data removed]"
     },
     "metadata": {},
     "output_type": "display_data"
    }
   ],
   "source": [
    "year_counts=year_counts.value_counts()\n",
    "plt.bar(year_counts.index,year_counts.values)\n",
    "plt.show()"
   ]
  },
  {
   "cell_type": "markdown",
   "id": "2a638a2b340f56ec",
   "metadata": {
    "collapsed": false
   },
   "source": [
    "2.7 仓库各项数值属性"
   ]
  },
  {
   "cell_type": "code",
   "execution_count": 32,
   "id": "25be3df34d2348dc",
   "metadata": {
    "collapsed": false,
    "ExecuteTime": {
     "end_time": "2024-03-28T18:45:32.208579700Z",
     "start_time": "2024-03-28T18:45:01.362737700Z"
    }
   },
   "outputs": [
    {
     "data": {
      "text/plain": "<Figure size 640x480 with 1 Axes>",
      "image/png": "[encoded data removed]"
     },
     "metadata": {},
     "output_type": "display_data"
    }
   ],
   "source": [
    "github_num = github[['stars_count','forks_count','watchers','pull_requests','commit_count']].dropna()\n",
    "github_num.boxplot(flierprops={'marker': '.', 'markerfacecolor': 'green', 'markersize': 5, 'linestyle': 'none'},whis=(5,95),vert=False)\n",
    "plt.show()"
   ]
  },
  {
   "cell_type": "markdown",
   "source": [
    "异常值过多,取消异常值"
   ],
   "metadata": {
    "collapsed": false
   },
   "id": "fc3c3177af0f22a8"
  },
  {
   "cell_type": "code",
   "outputs": [
    {
     "data": {
      "text/plain": "<Figure size 640x480 with 1 Axes>",
      "image/png": "[encoded data removed]"
     },
     "metadata": {},
     "output_type": "display_data"
    }
   ],
   "source": [
    "github_num.boxplot(showfliers=False,vert=False)\n",
    "plt.show()"
   ],
   "metadata": {
    "collapsed": false,
    "ExecuteTime": {
     "end_time": "2024-03-28T18:46:38.508735500Z",
     "start_time": "2024-03-28T18:46:21.343428Z"
    }
   },
   "id": "cfbebfb5cf371642",
   "execution_count": 33
  },
  {
   "cell_type": "markdown",
   "id": "2126295d1e80f93",
   "metadata": {
    "collapsed": false
   },
   "source": [
    "3. 缺失值处理\n",
    "3.1 剔除缺失部分"
   ]
  },
  {
   "cell_type": "code",
   "execution_count": 35,
   "id": "f1ba771eeb5c9fed",
   "metadata": {
    "collapsed": false,
    "ExecuteTime": {
     "end_time": "2024-03-28T18:47:19.632670Z",
     "start_time": "2024-03-28T18:47:18.767773100Z"
    }
   },
   "outputs": [
    {
     "name": "stdout",
     "output_type": "stream",
     "text": [
      "(2917951, 10)\n",
      "(1471611, 10)\n"
     ]
    }
   ],
   "source": [
    "print(github.shape)\n",
    "github_df_cleaned = github.dropna()\n",
    "print(github_df_cleaned.shape)"
   ]
  },
  {
   "cell_type": "markdown",
   "id": "605a53ac5847a027",
   "metadata": {
    "collapsed": false
   },
   "source": [
    "3.2 用最高频率值来填补缺失值"
   ]
  },
  {
   "cell_type": "code",
   "execution_count": 36,
   "id": "c84593c1564a42d3",
   "metadata": {
    "collapsed": false,
    "ExecuteTime": {
     "end_time": "2024-03-28T18:47:55.488968800Z",
     "start_time": "2024-03-28T18:47:52.314585700Z"
    }
   },
   "outputs": [
    {
     "name": "stderr",
     "output_type": "stream",
     "text": [
      "C:\\Users\\3647\\AppData\\Local\\Temp\\ipykernel_16656\\754578149.py:7: SettingWithCopyWarning: \n",
      "A value is trying to be set on a copy of a slice from a DataFrame\n",
      "\n",
      "See the caveats in the documentation: https://pandas.pydata.org/pandas-docs/stable/user_guide/indexing.html#returning-a-view-versus-a-copy\n",
      "  github_df_cleaned[col].fillna(mode,inplace=True)\n"
     ]
    },
    {
     "data": {
      "text/plain": "                    name primary_language languages_used  commit_count  \\\nreplace_values  dotfiles       JavaScript     ['Python']             2   \n\n                    licence  \nreplace_values  MIT License  ",
      "text/html": "<div>\n<style scoped>\n    .dataframe tbody tr th:only-of-type {\n        vertical-align: middle;\n    }\n\n    .dataframe tbody tr th {\n        vertical-align: top;\n    }\n\n    .dataframe thead th {\n        text-align: right;\n    }\n</style>\n<table border=\"1\" class=\"dataframe\">\n  <thead>\n    <tr style=\"text-align: right;\">\n      <th></th>\n      <th>name</th>\n      <th>primary_language</th>\n      <th>languages_used</th>\n      <th>commit_count</th>\n      <th>licence</th>\n    </tr>\n  </thead>\n  <tbody>\n    <tr>\n      <th>replace_values</th>\n      <td>dotfiles</td>\n      <td>JavaScript</td>\n      <td>['Python']</td>\n      <td>2</td>\n      <td>MIT License</td>\n    </tr>\n  </tbody>\n</table>\n</div>"
     },
     "execution_count": 36,
     "metadata": {},
     "output_type": "execute_result"
    }
   ],
   "source": [
    "github_cleaned = github.copy()\n",
    "replace_values = missing_values.copy().rename(index={'missing_values':'replace_values'})\n",
    "for col in replace_values.columns:\n",
    "    if missing_values.loc['missing_values',col] == 0:\n",
    "        continue\n",
    "    mode = github[col].mode()[0]\n",
    "    github_df_cleaned[col].fillna(mode,inplace=True)\n",
    "    replace_values.loc['replace_values',col] = mode\n",
    "replace_values"
   ]
  },
  {
   "cell_type": "markdown",
   "id": "1e3fbff6e36b71ec",
   "metadata": {
    "collapsed": false
   },
   "source": [
    " 3.3 通过属性的相关关系填补缺失值\n",
    "虽然主要使用语言属性和仓库使用语言列表有相关关系,但是本数据集中往往同时为NaN,无法填补"
   ]
  },
  {
   "cell_type": "markdown",
   "id": "5603990e687782c0",
   "metadata": {
    "collapsed": false
   },
   "source": [
    "\n",
    "3.3 用数据对象之间的相似性填补缺失值"
   ]
  },
  {
   "cell_type": "code",
   "execution_count": 42,
   "id": "8843d54a55705d91",
   "metadata": {
    "collapsed": false,
    "ExecuteTime": {
     "end_time": "2024-03-28T18:57:31.786010200Z",
     "start_time": "2024-03-28T18:57:31.535839800Z"
    }
   },
   "outputs": [
    {
     "data": {
      "text/plain": "                                      repositories  stars_count  forks_count  \\\n0                                   ethereum/aleth            0            0   \n1                                   ethereum/aleth            0            0   \n10                  iamrajiv/new-keptn-docs-engine            0            1   \n30                donnemartin/system-design-primer            0            0   \n37                               thrau/jarchivelib          183           33   \n...                                            ...          ...          ...   \n1014  SauravMukherjee44/Portfolio-Saurav-Mukherjee           37           18   \n1015                                 sirinath/blog            0            0   \n1019                       mrdbourke/food-not-food           45            9   \n1032                           lynxerzhang/AS3Util            3            1   \n1042               rijusougata13/movie-recommender            1            1   \n\n      issues_count  pull_requests  contributors          language  \n0              313             27           154               C++  \n1              313             27           154               C++  \n10              81              3             0        JavaScript  \n30             164            164           115            Python  \n37              23              4             7              Java  \n...            ...            ...           ...               ...  \n1014             1              0             2               CSS  \n1015             2              0            23             Shell  \n1019             1              0             2  Jupyter Notebook  \n1032             1              0             0      ActionScript  \n1042             2              0             2              HTML  \n\n[145 rows x 7 columns]",
      "text/html": "<div>\n<style scoped>\n    .dataframe tbody tr th:only-of-type {\n        vertical-align: middle;\n    }\n\n    .dataframe tbody tr th {\n        vertical-align: top;\n    }\n\n    .dataframe thead th {\n        text-align: right;\n    }\n</style>\n<table border=\"1\" class=\"dataframe\">\n  <thead>\n    <tr style=\"text-align: right;\">\n      <th></th>\n      <th>repositories</th>\n      <th>stars_count</th>\n      <th>forks_count</th>\n      <th>issues_count</th>\n      <th>pull_requests</th>\n      <th>contributors</th>\n      <th>language</th>\n    </tr>\n  </thead>\n  <tbody>\n    <tr>\n      <th>0</th>\n      <td>ethereum/aleth</td>\n      <td>0</td>\n      <td>0</td>\n      <td>313</td>\n      <td>27</td>\n      <td>154</td>\n      <td>C++</td>\n    </tr>\n    <tr>\n      <th>1</th>\n      <td>ethereum/aleth</td>\n      <td>0</td>\n      <td>0</td>\n      <td>313</td>\n      <td>27</td>\n      <td>154</td>\n      <td>C++</td>\n    </tr>\n    <tr>\n      <th>10</th>\n      <td>iamrajiv/new-keptn-docs-engine</td>\n      <td>0</td>\n      <td>1</td>\n      <td>81</td>\n      <td>3</td>\n      <td>0</td>\n      <td>JavaScript</td>\n    </tr>\n    <tr>\n      <th>30</th>\n      <td>donnemartin/system-design-primer</td>\n      <td>0</td>\n      <td>0</td>\n      <td>164</td>\n      <td>164</td>\n      <td>115</td>\n      <td>Python</td>\n    </tr>\n    <tr>\n      <th>37</th>\n      <td>thrau/jarchivelib</td>\n      <td>183</td>\n      <td>33</td>\n      <td>23</td>\n      <td>4</td>\n      <td>7</td>\n      <td>Java</td>\n    </tr>\n    <tr>\n      <th>...</th>\n      <td>...</td>\n      <td>...</td>\n      <td>...</td>\n      <td>...</td>\n      <td>...</td>\n      <td>...</td>\n      <td>...</td>\n    </tr>\n    <tr>\n      <th>1014</th>\n      <td>SauravMukherjee44/Portfolio-Saurav-Mukherjee</td>\n      <td>37</td>\n      <td>18</td>\n      <td>1</td>\n      <td>0</td>\n      <td>2</td>\n      <td>CSS</td>\n    </tr>\n    <tr>\n      <th>1015</th>\n      <td>sirinath/blog</td>\n      <td>0</td>\n      <td>0</td>\n      <td>2</td>\n      <td>0</td>\n      <td>23</td>\n      <td>Shell</td>\n    </tr>\n    <tr>\n      <th>1019</th>\n      <td>mrdbourke/food-not-food</td>\n      <td>45</td>\n      <td>9</td>\n      <td>1</td>\n      <td>0</td>\n      <td>2</td>\n      <td>Jupyter Notebook</td>\n    </tr>\n    <tr>\n      <th>1032</th>\n      <td>lynxerzhang/AS3Util</td>\n      <td>3</td>\n      <td>1</td>\n      <td>1</td>\n      <td>0</td>\n      <td>0</td>\n      <td>ActionScript</td>\n    </tr>\n    <tr>\n      <th>1042</th>\n      <td>rijusougata13/movie-recommender</td>\n      <td>1</td>\n      <td>1</td>\n      <td>2</td>\n      <td>0</td>\n      <td>2</td>\n      <td>HTML</td>\n    </tr>\n  </tbody>\n</table>\n<p>145 rows × 7 columns</p>\n</div>"
     },
     "execution_count": 42,
     "metadata": {},
     "output_type": "execute_result"
    }
   ],
   "source": [
    "import numpy as np\n",
    "from sklearn.metrics.pairwise import nan_euclidean_distances\n",
    "import pandas as pd\n",
    "from tqdm import tqdm\n",
    "\n",
    "github = pd.read_csv('dataset/github_dataset.csv')\n",
    "\n",
    "rows_with_missing = github[github.isnull().any(axis=1)]\n",
    "numeric_rows_with = rows_with_missing[['stars_count','forks_count','issues_count','pull_requests','contributors']]\n",
    "rows_without_missing = github[~github.isnull().any(axis=1)]\n",
    "numeric_rows_without = rows_without_missing[['stars_count','forks_count','issues_count','pull_requests','contributors']]\n",
    "interpoted = rows_with_missing.copy()\n",
    "for row in numeric_rows_with.itertuples():\n",
    "    # 计算当前行与其他行的欧氏距离，忽略NaN值\n",
    "    distances = nan_euclidean_distances([numeric_rows_with.loc[row.Index]], numeric_rows_without)[0]\n",
    "    nearest_row_index = np.argmin(distances)\n",
    "    nearest_row = rows_without_missing.iloc[nearest_row_index]\n",
    "    # 使用最近邻行的值填充缺失值\n",
    "    interpoted.loc[row.Index] = nearest_row\n",
    "interpoted"
   ]
  }
 ],
 "metadata": {
  "kernelspec": {
   "display_name": "Python 3 (ipykernel)",
   "language": "python",
   "name": "python3"
  },
  "language_info": {
   "codemirror_mode": {
    "name": "ipython",
    "version": 3
   },
   "file_extension": ".py",
   "mimetype": "text/x-python",
   "name": "python",
   "nbconvert_exporter": "python",
   "pygments_lexer": "ipython3",
   "version": "3.8.18"
  }
 },
 "nbformat": 4,
 "nbformat_minor": 5
}
