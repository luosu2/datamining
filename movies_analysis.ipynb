{
 "cells": [
  {
   "cell_type": "markdown",
   "id": "9fe2ea10d349b698",
   "metadata": {
    "collapsed": false
   },
   "source": [
    "# 数据集1: Movies Dataset from Pirated Sites\n",
    " 1. 数据摘要\n",
    "    1.1属性\n",
    "+ `IMDb-rating` 电影的IMDb评分\n",
    "+ `appropriate_for` 电影分级,R 级、PG-13 等\n",
    "+ `director` 电影导演\n",
    "+ `downloads` 下载量\n",
    "+ `id` 电影的唯一ID\n",
    "+ `industry` 电影中心\n",
    "+ `language` 语言\n",
    "+ `posted_date` 电影在平台上发布的时间\n",
    "+ `release_date` 电影在全球上映的时间\n",
    "+ `run_time` 电影时长(分钟)\n",
    "+ `storyline` 故事梗概\n",
    "+ `title` 电影标题\n",
    "+ `views` 观看量\n",
    "+ `writer` 编剧列表"
   ]
  },
  {
   "cell_type": "code",
   "execution_count": 32,
   "id": "81604acd2ecb90dc",
   "metadata": {
    "ExecuteTime": {
     "end_time": "2024-03-28T16:09:44.649976800Z",
     "start_time": "2024-03-28T16:09:44.194456800Z"
    },
    "collapsed": false
   },
   "outputs": [
    {
     "data": {
      "text/plain": [
       "['IMDb-rating',\n",
       " 'appropriate_for',\n",
       " 'director',\n",
       " 'downloads',\n",
       " 'id',\n",
       " 'industry',\n",
       " 'language',\n",
       " 'posted_date',\n",
       " 'release_date',\n",
       " 'run_time',\n",
       " 'storyline',\n",
       " 'title',\n",
       " 'views',\n",
       " 'writer']"
      ]
     },
     "execution_count": 32,
     "metadata": {},
     "output_type": "execute_result"
    }
   ],
   "source": [
    "import pandas as pd\n",
    "movie=pd.read_csv('dataset/movies_dataset.csv')\n",
    "movie=movie.drop(columns=[\"Unnamed: 0\"],inplace=False)\n",
    "movie.columns.tolist()"
   ]
  },
  {
   "cell_type": "markdown",
   "id": "55c19b4548c2aa03",
   "metadata": {
    "collapsed": false
   },
   "source": [
    "   1.2 标称属性可能取值的频数\n",
    "+ `appropriate_for` "
   ]
  },
  {
   "cell_type": "code",
   "execution_count": 33,
   "id": "4b08fd36f8c07c1",
   "metadata": {
    "ExecuteTime": {
     "end_time": "2024-03-28T16:09:44.716494800Z",
     "start_time": "2024-03-28T16:09:44.605951600Z"
    },
    "collapsed": false
   },
   "outputs": [
    {
     "data": {
      "text/plain": [
       "appropriate_for\n",
       "R                 4384\n",
       "Not Rated         2142\n",
       "PG-13             1968\n",
       "PG                 886\n",
       "TV-14              694\n",
       "TV-MA              406\n",
       "G                  152\n",
       "Unrated            132\n",
       "TV-PG              115\n",
       "TV-G                99\n",
       "TV-Y7               45\n",
       "TV-Y                25\n",
       "Approved             9\n",
       "NC-17                4\n",
       "TV-Y7-FV             3\n",
       "Passed               3\n",
       "MA-17                1\n",
       "TV-13                1\n",
       "Drama                1\n",
       "Drama, Romance       1\n",
       "18+                  1\n",
       "Name: count, dtype: int64"
      ]
     },
     "execution_count": 33,
     "metadata": {},
     "output_type": "execute_result"
    }
   ],
   "source": [
    "movie['appropriate_for'].value_counts()"
   ]
  },
  {
   "cell_type": "markdown",
   "id": "92635c3df62260bf",
   "metadata": {
    "collapsed": false
   },
   "source": [
    "+ `director` 电影导演"
   ]
  },
  {
   "cell_type": "code",
   "execution_count": 34,
   "id": "f8ceb963415ec6e8",
   "metadata": {
    "ExecuteTime": {
     "end_time": "2024-03-28T16:09:44.921853700Z",
     "start_time": "2024-03-28T16:09:44.722495700Z"
    },
    "collapsed": false
   },
   "outputs": [
    {
     "data": {
      "text/plain": [
       "director\n",
       "Venky Atluri                                  405\n",
       "Simone Stock                                  403\n",
       "Xavier Manrique                               403\n",
       "John Swab                                     205\n",
       "Neil Jordan                                   205\n",
       "                                             ... \n",
       "Agnieszka Smoczynska                            1\n",
       "Dylan Thomas Ellis                              1\n",
       "Sunil Thakur, Sunil Dhawan, Shivani Thakur      1\n",
       "Suman Mukhopadhyay                              1\n",
       "Shea Sizemore                                   1\n",
       "Name: count, Length: 9672, dtype: int64"
      ]
     },
     "execution_count": 34,
     "metadata": {},
     "output_type": "execute_result"
    }
   ],
   "source": [
    "movie['director'].value_counts()"
   ]
  },
  {
   "cell_type": "markdown",
   "id": "6bbb074d77b54012",
   "metadata": {
    "collapsed": false
   },
   "source": [
    "+ `id` 电影的唯一ID"
   ]
  },
  {
   "cell_type": "code",
   "execution_count": 35,
   "id": "2b96dc52c98e18f6",
   "metadata": {
    "ExecuteTime": {
     "end_time": "2024-03-28T16:09:44.964376900Z",
     "start_time": "2024-03-28T16:09:44.878854600Z"
    },
    "collapsed": false
   },
   "outputs": [
    {
     "data": {
      "text/plain": [
       "id\n",
       "372090    402\n",
       "371744    402\n",
       "371877    402\n",
       "372092    202\n",
       "371991    202\n",
       "         ... \n",
       "303381      1\n",
       "303380      1\n",
       "303379      1\n",
       "303377      1\n",
       "30459       1\n",
       "Name: count, Length: 17086, dtype: int64"
      ]
     },
     "execution_count": 35,
     "metadata": {},
     "output_type": "execute_result"
    }
   ],
   "source": [
    "movie['id'].value_counts()"
   ]
  },
  {
   "cell_type": "markdown",
   "id": "3a90119b351c1b0c",
   "metadata": {
    "collapsed": false
   },
   "source": [
    "唯一ID却有重复值，说明数据集中有重复的电影,经过验证,数据集中有重复的电影\n",
    "+ `industry` 电影中心"
   ]
  },
  {
   "cell_type": "code",
   "execution_count": 36,
   "id": "84cfe56271e33d4a",
   "metadata": {
    "ExecuteTime": {
     "end_time": "2024-03-28T16:09:45.082902900Z",
     "start_time": "2024-03-28T16:09:44.973377600Z"
    },
    "collapsed": false
   },
   "outputs": [
    {
     "data": {
      "text/plain": [
       "industry\n",
       "Hollywood / English    14649\n",
       "Bollywood / Indian      2645\n",
       "Tollywood               1172\n",
       "Anime / Kids            1049\n",
       "Wrestling                433\n",
       "Punjabi                  332\n",
       "Stage shows              129\n",
       "Pakistani                 92\n",
       "Dub / Dual Audio          45\n",
       "3D Movies                  1\n",
       "Name: count, dtype: int64"
      ]
     },
     "execution_count": 36,
     "metadata": {},
     "output_type": "execute_result"
    }
   ],
   "source": [
    "movie['industry'].value_counts()"
   ]
  },
  {
   "cell_type": "markdown",
   "id": "6a67d8bbe0896986",
   "metadata": {
    "collapsed": false
   },
   "source": [
    "+ `language` 语言"
   ]
  },
  {
   "cell_type": "code",
   "execution_count": 37,
   "id": "ea981eecc282eb05",
   "metadata": {
    "ExecuteTime": {
     "end_time": "2024-03-28T16:09:45.267391100Z",
     "start_time": "2024-03-28T16:09:45.085899100Z"
    },
    "collapsed": false
   },
   "outputs": [
    {
     "data": {
      "text/plain": [
       "language\n",
       "English                                 12657\n",
       "Hindi                                    2558\n",
       "English,Spanish                           391\n",
       "Punjabi                                   310\n",
       "English,Hindi                             304\n",
       "                                        ...  \n",
       "English,Korean,Spanish                      1\n",
       "Norwegian,Swedish                           1\n",
       "Spanish,Chinese,English,Maori,French        1\n",
       "Urdu,Punjabi,English                        1\n",
       "Spanish,German,English                      1\n",
       "Name: count, Length: 1167, dtype: int64"
      ]
     },
     "execution_count": 37,
     "metadata": {},
     "output_type": "execute_result"
    }
   ],
   "source": [
    "movie['language'].value_counts()"
   ]
  },
  {
   "cell_type": "markdown",
   "id": "435e52c8ad9a71c3",
   "metadata": {
    "collapsed": false
   },
   "source": [
    "+ `posted_date` 电影在平台上发布的时间"
   ]
  },
  {
   "cell_type": "code",
   "execution_count": 38,
   "id": "63b3a46ee27987c8",
   "metadata": {
    "ExecuteTime": {
     "end_time": "2024-03-28T16:09:45.307617300Z",
     "start_time": "2024-03-28T16:09:45.193424100Z"
    },
    "collapsed": false
   },
   "outputs": [
    {
     "data": {
      "text/plain": [
       "posted_date\n",
       "13 Feb, 2023    812\n",
       "20 Feb, 2023    607\n",
       "15 Feb, 2023    607\n",
       "10 Feb, 2023    485\n",
       "16 Feb, 2023    406\n",
       "               ... \n",
       "12 Sep, 2009      1\n",
       "08 Sep, 2009      1\n",
       "01 Sep, 2009      1\n",
       "18 Aug, 2009      1\n",
       "30 Nov, 2011      1\n",
       "Name: count, Length: 4123, dtype: int64"
      ]
     },
     "execution_count": 38,
     "metadata": {},
     "output_type": "execute_result"
    }
   ],
   "source": [
    "movie['posted_date'].value_counts()"
   ]
  },
  {
   "cell_type": "markdown",
   "id": "4b23cebf377419dd",
   "metadata": {
    "collapsed": false
   },
   "source": [
    "+ `release_date` 电影在全球上映的时间"
   ]
  },
  {
   "cell_type": "code",
   "execution_count": 39,
   "id": "89ad86b1f1cbbe6c",
   "metadata": {
    "ExecuteTime": {
     "end_time": "2024-03-28T16:09:45.409581600Z",
     "start_time": "2024-03-28T16:09:45.279376800Z"
    },
    "collapsed": false
   },
   "outputs": [
    {
     "data": {
      "text/plain": [
       "release_date\n",
       "Jan 01 1970    962\n",
       "Feb 03 2023    616\n",
       "Feb 17 2023    607\n",
       "Feb 10 2023    410\n",
       "Feb 11 2023    402\n",
       "              ... \n",
       "Sep 05 2003      1\n",
       "Dec 29 2022      1\n",
       "Aug 24 2013      1\n",
       "Jan 12 2014      1\n",
       "Mar 28 1958      1\n",
       "Name: count, Length: 4886, dtype: int64"
      ]
     },
     "execution_count": 39,
     "metadata": {},
     "output_type": "execute_result"
    }
   ],
   "source": [
    "movie['release_date'].value_counts()"
   ]
  },
  {
   "cell_type": "markdown",
   "id": "be4009b7ba068d59",
   "metadata": {
    "collapsed": false
   },
   "source": [
    "+ `writer` 编剧列表"
   ]
  },
  {
   "cell_type": "code",
   "execution_count": 40,
   "id": "dee7df78e5e94ec7",
   "metadata": {
    "ExecuteTime": {
     "end_time": "2024-03-28T16:09:45.489562700Z",
     "start_time": "2024-03-28T16:09:45.359638800Z"
    },
    "collapsed": false
   },
   "outputs": [
    {
     "data": {
      "text/plain": [
       "writer\n",
       "Nicholas Schutt                           403\n",
       "Venky Atluri                              402\n",
       "Haley Harris                              402\n",
       "John Swab                                 205\n",
       "Elegance Bratton                          202\n",
       "                                         ... \n",
       "Barbara Samuels, Joseph Boyden              1\n",
       "Maria Allred                                1\n",
       "Pia Mechler                                 1\n",
       "Paul Flannery, David Ryan Keith             1\n",
       "Khwaja Ahmad Abbas, Khwaja Ahmad Abbas      1\n",
       "Name: count, Length: 13603, dtype: int64"
      ]
     },
     "execution_count": 40,
     "metadata": {},
     "output_type": "execute_result"
    }
   ],
   "source": [
    "movie['writer'].value_counts()"
   ]
  },
  {
   "cell_type": "markdown",
   "id": "a7c8b2566e9c40b3",
   "metadata": {
    "collapsed": false
   },
   "source": [
    "+ `title` 电影标题"
   ]
  },
  {
   "cell_type": "markdown",
   "id": "2ac3333efdeef9c7",
   "metadata": {
    "collapsed": false
   },
   "source": []
  },
  {
   "cell_type": "code",
   "execution_count": 41,
   "id": "205ddd4552241af6",
   "metadata": {
    "ExecuteTime": {
     "end_time": "2024-03-28T16:09:45.581674500Z",
     "start_time": "2024-03-28T16:09:45.465811300Z"
    },
    "collapsed": false
   },
   "outputs": [
    {
     "data": {
      "text/plain": [
       "title\n",
       "The Girl Who Escaped: The Kara Robinson Story    402\n",
       "Vaathi                                           402\n",
       "Who Invited Charlie?                             402\n",
       "Little Dixie                                     202\n",
       "The Inspection                                   202\n",
       "                                                ... \n",
       "Kesari                                             1\n",
       "Old Boys                                           1\n",
       "American Exit                                      1\n",
       "Adventures of Aladdin                              1\n",
       "Madhumati                                          1\n",
       "Name: count, Length: 16572, dtype: int64"
      ]
     },
     "execution_count": 41,
     "metadata": {},
     "output_type": "execute_result"
    }
   ],
   "source": [
    "movie['title'].value_counts()"
   ]
  },
  {
   "cell_type": "markdown",
   "id": "aecb4f52f2d550c2",
   "metadata": {
    "collapsed": false
   },
   "source": [
    "1.3 数值属性的五数概括\n",
    "    缺失值的个数统计"
   ]
  },
  {
   "cell_type": "code",
   "execution_count": 42,
   "id": "42bc1b917e49c73d",
   "metadata": {
    "ExecuteTime": {
     "end_time": "2024-03-28T16:09:45.677503400Z",
     "start_time": "2024-03-28T16:09:45.582675300Z"
    },
    "collapsed": false
   },
   "outputs": [
    {
     "data": {
      "text/html": [
       "<div>\n",
       "<style scoped>\n",
       "    .dataframe tbody tr th:only-of-type {\n",
       "        vertical-align: middle;\n",
       "    }\n",
       "\n",
       "    .dataframe tbody tr th {\n",
       "        vertical-align: top;\n",
       "    }\n",
       "\n",
       "    .dataframe thead th {\n",
       "        text-align: right;\n",
       "    }\n",
       "</style>\n",
       "<table border=\"1\" class=\"dataframe\">\n",
       "  <thead>\n",
       "    <tr style=\"text-align: right;\">\n",
       "      <th></th>\n",
       "      <th>IMDb-rating</th>\n",
       "      <th>appropriate_for</th>\n",
       "      <th>director</th>\n",
       "      <th>downloads</th>\n",
       "      <th>industry</th>\n",
       "      <th>language</th>\n",
       "      <th>posted_date</th>\n",
       "      <th>release_date</th>\n",
       "      <th>run_time</th>\n",
       "      <th>storyline</th>\n",
       "      <th>title</th>\n",
       "      <th>views</th>\n",
       "      <th>writer</th>\n",
       "    </tr>\n",
       "  </thead>\n",
       "  <tbody>\n",
       "    <tr>\n",
       "      <th>missing_values</th>\n",
       "      <td>841</td>\n",
       "      <td>9476</td>\n",
       "      <td>1938</td>\n",
       "      <td>1</td>\n",
       "      <td>1</td>\n",
       "      <td>546</td>\n",
       "      <td>1</td>\n",
       "      <td>1</td>\n",
       "      <td>1768</td>\n",
       "      <td>1701</td>\n",
       "      <td>1</td>\n",
       "      <td>1</td>\n",
       "      <td>2192</td>\n",
       "    </tr>\n",
       "  </tbody>\n",
       "</table>\n",
       "</div>"
      ],
      "text/plain": [
       "                IMDb-rating  appropriate_for  director  downloads  industry  \\\n",
       "missing_values          841             9476      1938          1         1   \n",
       "\n",
       "                language  posted_date  release_date  run_time  storyline  \\\n",
       "missing_values       546            1             1      1768       1701   \n",
       "\n",
       "                title  views  writer  \n",
       "missing_values      1      1    2192  "
      ]
     },
     "execution_count": 42,
     "metadata": {},
     "output_type": "execute_result"
    }
   ],
   "source": [
    "missing_values=movie.isnull().sum()\n",
    "missing_values=pd.DataFrame(missing_values,columns=['missing_values']).T\n",
    "missing_values=missing_values.loc[:,(missing_values!=0).any(axis=0)]\n",
    "missing_values"
   ]
  },
  {
   "cell_type": "markdown",
   "id": "2675ab724552c716",
   "metadata": {
    "collapsed": false
   },
   "source": [
    "+ `views` 观看量\n",
    "`views` 属性的五数概括"
   ]
  },
  {
   "cell_type": "code",
   "execution_count": 43,
   "id": "b90a705ddc57e80d",
   "metadata": {
    "ExecuteTime": {
     "end_time": "2024-03-28T16:09:45.804632400Z",
     "start_time": "2024-03-28T16:09:45.627806400Z"
    },
    "collapsed": false
   },
   "outputs": [
    {
     "data": {
      "text/plain": [
       "min        667.0\n",
       "25%       7571.5\n",
       "50%      15222.0\n",
       "75%      36571.0\n",
       "max    1638533.0\n",
       "Name: views, dtype: float64"
      ]
     },
     "execution_count": 43,
     "metadata": {},
     "output_type": "execute_result"
    }
   ],
   "source": [
    "num_views = pd.to_numeric(movie['views'].str.replace(',','')).dropna()\n",
    "num_views.describe()[3:]"
   ]
  },
  {
   "cell_type": "markdown",
   "id": "72434d0f20960ceb",
   "metadata": {
    "collapsed": false
   },
   "source": [
    "+ `downloads` 下载量"
   ]
  },
  {
   "cell_type": "code",
   "execution_count": 44,
   "id": "6e5c9ab8a4de451e",
   "metadata": {
    "ExecuteTime": {
     "end_time": "2024-03-28T16:09:45.906362100Z",
     "start_time": "2024-03-28T16:09:45.742682400Z"
    },
    "collapsed": false
   },
   "outputs": [
    {
     "data": {
      "text/plain": [
       "min         0.0\n",
       "25%       855.5\n",
       "50%      2716.0\n",
       "75%     10070.0\n",
       "max    391272.0\n",
       "Name: downloads, dtype: float64"
      ]
     },
     "execution_count": 44,
     "metadata": {},
     "output_type": "execute_result"
    }
   ],
   "source": [
    "num_downloads = pd.to_numeric(movie['downloads'].str.replace(',','')).dropna()\n",
    "num_downloads.describe()[3:]"
   ]
  },
  {
   "cell_type": "markdown",
   "id": "b828a8144551e35",
   "metadata": {
    "collapsed": false
   },
   "source": [
    "+ `run_time` 电影时长(分钟)\n",
    "将不同时间格式转换为分钟"
   ]
  },
  {
   "cell_type": "code",
   "execution_count": 45,
   "id": "91d23e9809a71cef",
   "metadata": {
    "ExecuteTime": {
     "end_time": "2024-03-28T16:09:46.263503600Z",
     "start_time": "2024-03-28T16:09:45.890361800Z"
    },
    "collapsed": false
   },
   "outputs": [
    {
     "data": {
      "text/plain": [
       "min      2.0\n",
       "25%     90.0\n",
       "50%    100.0\n",
       "75%    117.0\n",
       "max    321.0\n",
       "Name: run_time, dtype: float64"
      ]
     },
     "execution_count": 45,
     "metadata": {},
     "output_type": "execute_result"
    }
   ],
   "source": [
    "def convert_to_minutes(duration):\n",
    "    if 'h' in duration or 'm' in duration:\n",
    "        return pd.to_timedelta(duration).total_seconds()/60\n",
    "    else:\n",
    "        return pd.to_numeric(duration)\n",
    "run_time_cleaned = movie['run_time'].dropna().astype(str).apply(convert_to_minutes)\n",
    "run_time_cleaned.describe()[3:]"
   ]
  },
  {
   "cell_type": "markdown",
   "id": "1e88322385e667b",
   "metadata": {
    "collapsed": false
   },
   "source": [
    "+ `IMDb-rating` 电影的IMDb评分"
   ]
  },
  {
   "cell_type": "code",
   "execution_count": 46,
   "id": "4f56a896db03ec24",
   "metadata": {
    "ExecuteTime": {
     "end_time": "2024-03-28T16:09:46.264507300Z",
     "start_time": "2024-03-28T16:09:46.211433100Z"
    },
    "collapsed": false
   },
   "outputs": [
    {
     "data": {
      "text/plain": [
       "min    1.1\n",
       "25%    4.8\n",
       "50%    5.7\n",
       "75%    6.6\n",
       "max    9.9\n",
       "Name: IMDb-rating, dtype: float64"
      ]
     },
     "execution_count": 46,
     "metadata": {},
     "output_type": "execute_result"
    }
   ],
   "source": [
    "rating_cleaned = movie['IMDb-rating'].dropna()\n",
    "rating_cleaned.describe()[3:]"
   ]
  },
  {
   "cell_type": "markdown",
   "id": "b1dbf1c7a52c7b35",
   "metadata": {
    "collapsed": false
   },
   "source": [
    "# 2.数据可视化\n",
    "    2.1 电影分级 属性的直方图"
   ]
  },
  {
   "cell_type": "code",
   "execution_count": 47,
   "id": "3ecfc9def552601d",
   "metadata": {
    "ExecuteTime": {
     "end_time": "2024-03-28T16:09:46.493418400Z",
     "start_time": "2024-03-28T16:09:46.227310200Z"
    },
    "collapsed": false
   },
   "outputs": [
    {
     "data": {
      "image/png": "[encoded data removed]",
      "text/plain": [
       "<Figure size 640x480 with 1 Axes>"
      ]
     },
     "metadata": {},
     "output_type": "display_data"
    }
   ],
   "source": [
    "import matplotlib.pyplot as plt\n",
    "appr_counts = movie['appropriate_for'].value_counts().sort_values(ascending=True)\n",
    "plt.barh(appr_counts.index,appr_counts.values)\n",
    "plt.show()"
   ]
  },
  {
   "cell_type": "markdown",
   "id": "e0f85196ee682e7a",
   "metadata": {
    "collapsed": false
   },
   "source": [
    "    2.2 电影语言 属性的直方图"
   ]
  },
  {
   "cell_type": "code",
   "execution_count": 48,
   "id": "506b31abdc2118c4",
   "metadata": {
    "ExecuteTime": {
     "end_time": "2024-03-28T16:09:46.656954900Z",
     "start_time": "2024-03-28T16:09:46.458278100Z"
    },
    "collapsed": false
   },
   "outputs": [
    {
     "data": {
      "image/png": "[encoded data removed]",
      "text/plain": [
       "<Figure size 640x480 with 1 Axes>"
      ]
     },
     "metadata": {},
     "output_type": "display_data"
    }
   ],
   "source": [
    "lang_counts = movie['language'].value_counts().sort_values()[-10:]\n",
    "plt.barh(lang_counts.index,lang_counts.values)\n",
    "plt.show()"
   ]
  },
  {
   "cell_type": "markdown",
   "id": "28514d2fcf1e79f0",
   "metadata": {
    "collapsed": false
   },
   "source": [
    "    2.3 电影中心 属性的直方图"
   ]
  },
  {
   "cell_type": "code",
   "execution_count": 49,
   "id": "2033b58c8a838f70",
   "metadata": {
    "ExecuteTime": {
     "end_time": "2024-03-28T16:09:46.815658700Z",
     "start_time": "2024-03-28T16:09:46.637948600Z"
    },
    "collapsed": false
   },
   "outputs": [
    {
     "data": {
      "image/png": "[encoded data removed]",
      "text/plain": [
       "<Figure size 640x480 with 1 Axes>"
      ]
     },
     "metadata": {},
     "output_type": "display_data"
    }
   ],
   "source": [
    "ind_counts = movie['industry'].value_counts().sort_values()[-10:]\n",
    "plt.barh(ind_counts.index,ind_counts.values)\n",
    "plt.show()"
   ]
  },
  {
   "cell_type": "markdown",
   "id": "596576b531707ec7",
   "metadata": {
    "collapsed": false
   },
   "source": [
    "    2.4 平台发布时间 属性的直方图"
   ]
  },
  {
   "cell_type": "code",
   "execution_count": 50,
   "id": "badcb6aa1c2ed3a6",
   "metadata": {
    "ExecuteTime": {
     "end_time": "2024-03-28T16:09:47.068225200Z",
     "start_time": "2024-03-28T16:09:46.816658600Z"
    },
    "collapsed": false
   },
   "outputs": [
    {
     "data": {
      "image/png": "[encoded data removed]",
      "text/plain": [
       "<Figure size 640x480 with 1 Axes>"
      ]
     },
     "metadata": {},
     "output_type": "display_data"
    }
   ],
   "source": [
    "pyear_counts = pd.to_datetime(movie['posted_date']).dt.year.value_counts()\n",
    "plt.bar(pyear_counts.index,pyear_counts.values)\n",
    "plt.show()"
   ]
  },
  {
   "cell_type": "markdown",
   "id": "6fe666d58305a4b4",
   "metadata": {
    "collapsed": false
   },
   "source": [
    "    2.5 全球上映时间 属性的直方图"
   ]
  },
  {
   "cell_type": "code",
   "execution_count": 51,
   "id": "8c33ad4357292dc8",
   "metadata": {
    "ExecuteTime": {
     "end_time": "2024-03-28T16:09:47.310888400Z",
     "start_time": "2024-03-28T16:09:47.073229500Z"
    },
    "collapsed": false
   },
   "outputs": [
    {
     "data": {
      "image/png": "[encoded data removed]",
      "text/plain": [
       "<Figure size 640x480 with 1 Axes>"
      ]
     },
     "metadata": {},
     "output_type": "display_data"
    }
   ],
   "source": [
    "ryear_counts = pd.to_datetime(movie['release_date']).dt.year.value_counts()\n",
    "plt.bar(ryear_counts.index,ryear_counts.values)\n",
    "plt.show()"
   ]
  },
  {
   "cell_type": "markdown",
   "id": "68bcffce39dd18bb",
   "metadata": {
    "collapsed": false
   },
   "source": [
    "    2.6 电影导演 属性的直方图"
   ]
  },
  {
   "cell_type": "code",
   "execution_count": 52,
   "id": "1d6237b33ae8d602",
   "metadata": {
    "ExecuteTime": {
     "end_time": "2024-03-28T16:09:47.561396300Z",
     "start_time": "2024-03-28T16:09:47.313888600Z"
    },
    "collapsed": false
   },
   "outputs": [
    {
     "data": {
      "image/png": "[encoded data removed]",
      "text/plain": [
       "<Figure size 640x480 with 1 Axes>"
      ]
     },
     "metadata": {},
     "output_type": "display_data"
    }
   ],
   "source": [
    "director_counts = movie['director'].value_counts().sort_values()[-20:]\n",
    "plt.barh(director_counts.index,director_counts.values)\n",
    "plt.show()"
   ]
  },
  {
   "cell_type": "markdown",
   "id": "2a638a2b340f56ec",
   "metadata": {
    "collapsed": false
   },
   "source": [
    "2.7 电影各项数值属性"
   ]
  },
  {
   "cell_type": "code",
   "execution_count": 53,
   "id": "25be3df34d2348dc",
   "metadata": {
    "ExecuteTime": {
     "end_time": "2024-03-28T16:09:48.387385800Z",
     "start_time": "2024-03-28T16:09:47.565893400Z"
    },
    "collapsed": false
   },
   "outputs": [
    {
     "data": {
      "image/png": "[encoded data removed]",
      "text/plain": [
       "<Figure size 3000x1000 with 4 Axes>"
      ]
     },
     "metadata": {},
     "output_type": "display_data"
    }
   ],
   "source": [
    "fig,ax=plt.subplots(1,4,figsize=(30,10))\n",
    "ax[0].boxplot(num_views)\n",
    "ax[0].set_title('views')\n",
    "ax[1].boxplot(num_downloads)\n",
    "ax[1].set_title('downloads')\n",
    "ax[2].boxplot(rating_cleaned)\n",
    "ax[2].set_title('ICMb-rating')\n",
    "ax[3].boxplot(run_time_cleaned)\n",
    "ax[3].set_title('run_time')\n",
    "plt.show()"
   ]
  },
  {
   "cell_type": "markdown",
   "id": "2126295d1e80f93",
   "metadata": {
    "collapsed": false
   },
   "source": [
    "3. 缺失值处理\n",
    "3.1 剔除缺失部分"
   ]
  },
  {
   "cell_type": "code",
   "execution_count": 54,
   "id": "f1ba771eeb5c9fed",
   "metadata": {
    "ExecuteTime": {
     "end_time": "2024-03-28T16:09:48.511188Z",
     "start_time": "2024-03-28T16:09:48.375392300Z"
    },
    "collapsed": false
   },
   "outputs": [
    {
     "name": "stdout",
     "output_type": "stream",
     "text": [
      "(20548, 14)\n",
      "(9902, 14)\n"
     ]
    }
   ],
   "source": [
    "print(movie.shape)\n",
    "movie_df_cleaned = movie.dropna()\n",
    "print(movie_df_cleaned.shape)"
   ]
  },
  {
   "cell_type": "markdown",
   "id": "605a53ac5847a027",
   "metadata": {
    "collapsed": false
   },
   "source": [
    "3.2 用最高频率值来填补缺失值"
   ]
  },
  {
   "cell_type": "code",
   "execution_count": 55,
   "id": "c84593c1564a42d3",
   "metadata": {
    "ExecuteTime": {
     "end_time": "2024-03-28T16:09:48.515216200Z",
     "start_time": "2024-03-28T16:09:48.406384900Z"
    },
    "collapsed": false
   },
   "outputs": [
    {
     "data": {
      "text/html": [
       "<div>\n",
       "<style scoped>\n",
       "    .dataframe tbody tr th:only-of-type {\n",
       "        vertical-align: middle;\n",
       "    }\n",
       "\n",
       "    .dataframe tbody tr th {\n",
       "        vertical-align: top;\n",
       "    }\n",
       "\n",
       "    .dataframe thead th {\n",
       "        text-align: right;\n",
       "    }\n",
       "</style>\n",
       "<table border=\"1\" class=\"dataframe\">\n",
       "  <thead>\n",
       "    <tr style=\"text-align: right;\">\n",
       "      <th></th>\n",
       "      <th>IMDb-rating</th>\n",
       "      <th>appropriate_for</th>\n",
       "      <th>director</th>\n",
       "      <th>downloads</th>\n",
       "      <th>industry</th>\n",
       "      <th>language</th>\n",
       "      <th>posted_date</th>\n",
       "      <th>release_date</th>\n",
       "      <th>run_time</th>\n",
       "      <th>storyline</th>\n",
       "      <th>title</th>\n",
       "      <th>views</th>\n",
       "      <th>writer</th>\n",
       "    </tr>\n",
       "  </thead>\n",
       "  <tbody>\n",
       "    <tr>\n",
       "      <th>replace_values</th>\n",
       "      <td>6.6</td>\n",
       "      <td>R</td>\n",
       "      <td>Venky Atluri</td>\n",
       "      <td>75</td>\n",
       "      <td>Hollywood / English</td>\n",
       "      <td>English</td>\n",
       "      <td>13 Feb, 2023</td>\n",
       "      <td>Jan 01 1970</td>\n",
       "      <td>93</td>\n",
       "      <td>Follows\\r\\n a New York City family hiding out ...</td>\n",
       "      <td>The Girl Who Escaped: The Kara Robinson Story</td>\n",
       "      <td>6,259</td>\n",
       "      <td>Nicholas Schutt</td>\n",
       "    </tr>\n",
       "  </tbody>\n",
       "</table>\n",
       "</div>"
      ],
      "text/plain": [
       "                IMDb-rating appropriate_for      director downloads  \\\n",
       "replace_values          6.6               R  Venky Atluri        75   \n",
       "\n",
       "                           industry language   posted_date release_date  \\\n",
       "replace_values  Hollywood / English  English  13 Feb, 2023  Jan 01 1970   \n",
       "\n",
       "               run_time                                          storyline  \\\n",
       "replace_values       93  Follows\\r\\n a New York City family hiding out ...   \n",
       "\n",
       "                                                        title  views  \\\n",
       "replace_values  The Girl Who Escaped: The Kara Robinson Story  6,259   \n",
       "\n",
       "                         writer  \n",
       "replace_values  Nicholas Schutt  "
      ]
     },
     "execution_count": 55,
     "metadata": {},
     "output_type": "execute_result"
    }
   ],
   "source": [
    "movie_df_cleaned = movie.copy()\n",
    "replace_values = missing_values.copy().rename(index={'missing_values':'replace_values'})\n",
    "for col in replace_values.columns:\n",
    "    if missing_values.loc['missing_values',col] == 0:\n",
    "        continue\n",
    "    mode = movie[col].mode()[0]\n",
    "    movie_df_cleaned[col].fillna(mode,inplace=True)\n",
    "    replace_values.loc['replace_values',col] = mode\n",
    "replace_values"
   ]
  },
  {
   "cell_type": "markdown",
   "id": "1e3fbff6e36b71ec",
   "metadata": {
    "collapsed": false
   },
   "source": [
    " 3.3 通过属性的相关关系填补缺失值\n",
    "部分`language`属性可通过`industry`属性用下划线分割后的最后一个子串获得，比如\"Hollywood/English\""
   ]
  },
  {
   "cell_type": "code",
   "execution_count": 56,
   "id": "a38a4d57a5c79d9e",
   "metadata": {
    "ExecuteTime": {
     "end_time": "2024-03-28T16:09:48.598068600Z",
     "start_time": "2024-03-28T16:09:48.498883200Z"
    },
    "collapsed": false
   },
   "outputs": [
    {
     "data": {
      "text/html": [
       "<div>\n",
       "<style scoped>\n",
       "    .dataframe tbody tr th:only-of-type {\n",
       "        vertical-align: middle;\n",
       "    }\n",
       "\n",
       "    .dataframe tbody tr th {\n",
       "        vertical-align: top;\n",
       "    }\n",
       "\n",
       "    .dataframe thead th {\n",
       "        text-align: right;\n",
       "    }\n",
       "</style>\n",
       "<table border=\"1\" class=\"dataframe\">\n",
       "  <thead>\n",
       "    <tr style=\"text-align: right;\">\n",
       "      <th></th>\n",
       "      <th>IMDb-rating</th>\n",
       "      <th>appropriate_for</th>\n",
       "      <th>director</th>\n",
       "      <th>downloads</th>\n",
       "      <th>id</th>\n",
       "      <th>industry</th>\n",
       "      <th>language</th>\n",
       "      <th>posted_date</th>\n",
       "      <th>release_date</th>\n",
       "      <th>run_time</th>\n",
       "      <th>storyline</th>\n",
       "      <th>title</th>\n",
       "      <th>views</th>\n",
       "      <th>writer</th>\n",
       "    </tr>\n",
       "  </thead>\n",
       "  <tbody>\n",
       "    <tr>\n",
       "      <th>291</th>\n",
       "      <td>NaN</td>\n",
       "      <td>NaN</td>\n",
       "      <td>NaN</td>\n",
       "      <td>265</td>\n",
       "      <td>370047</td>\n",
       "      <td>Wrestling</td>\n",
       "      <td>NaN</td>\n",
       "      <td>06 Jan, 2023</td>\n",
       "      <td>Jan 05 2023</td>\n",
       "      <td>NaN</td>\n",
       "      <td>NaN</td>\n",
       "      <td>TNA.Impact 2023-01-05</td>\n",
       "      <td>1,266</td>\n",
       "      <td>NaN</td>\n",
       "    </tr>\n",
       "    <tr>\n",
       "      <th>396</th>\n",
       "      <td>5.6</td>\n",
       "      <td>TV-G</td>\n",
       "      <td>Michael Lembeck</td>\n",
       "      <td>193</td>\n",
       "      <td>369257</td>\n",
       "      <td>Hollywood / English</td>\n",
       "      <td>NaN</td>\n",
       "      <td>17 Dec, 2022</td>\n",
       "      <td>Dec 16 2022</td>\n",
       "      <td>NaN</td>\n",
       "      <td>Your\\r\\n family is in for a flurry of fun with...</td>\n",
       "      <td>Snow Day</td>\n",
       "      <td>3,284</td>\n",
       "      <td>Samantha Martin, Will McRobb, Chris Viscardi</td>\n",
       "    </tr>\n",
       "    <tr>\n",
       "      <th>518</th>\n",
       "      <td>NaN</td>\n",
       "      <td>NaN</td>\n",
       "      <td>NaN</td>\n",
       "      <td>2,847</td>\n",
       "      <td>368289</td>\n",
       "      <td>Wrestling</td>\n",
       "      <td>NaN</td>\n",
       "      <td>26 Nov, 2022</td>\n",
       "      <td>Nov 25 2022</td>\n",
       "      <td>NaN</td>\n",
       "      <td>NaN</td>\n",
       "      <td>WWE Smackdown 2022-11-26</td>\n",
       "      <td>7,356</td>\n",
       "      <td>NaN</td>\n",
       "    </tr>\n",
       "    <tr>\n",
       "      <th>1453</th>\n",
       "      <td>5.5</td>\n",
       "      <td>NaN</td>\n",
       "      <td>Nyla Innuksuk</td>\n",
       "      <td>593</td>\n",
       "      <td>361520</td>\n",
       "      <td>Hollywood / English</td>\n",
       "      <td>NaN</td>\n",
       "      <td>27 Jun, 2022</td>\n",
       "      <td>Jun 24 2022</td>\n",
       "      <td>86</td>\n",
       "      <td>When\\r\\n Maika and her ragtag friends discover...</td>\n",
       "      <td>Slash/Back</td>\n",
       "      <td>6,863</td>\n",
       "      <td>Ryan Cavan, Nyla Innuksuk</td>\n",
       "    </tr>\n",
       "    <tr>\n",
       "      <th>1637</th>\n",
       "      <td>7.5</td>\n",
       "      <td>Approved</td>\n",
       "      <td>Kirk Harris</td>\n",
       "      <td>580</td>\n",
       "      <td>359910</td>\n",
       "      <td>Hollywood / English</td>\n",
       "      <td>NaN</td>\n",
       "      <td>21 May, 2022</td>\n",
       "      <td>Apr 01 2022</td>\n",
       "      <td>96</td>\n",
       "      <td>It centers on Kate, a widow who lost her husba...</td>\n",
       "      <td>Dakota</td>\n",
       "      <td>5,869</td>\n",
       "      <td>Johnny Harrington</td>\n",
       "    </tr>\n",
       "    <tr>\n",
       "      <th>...</th>\n",
       "      <td>...</td>\n",
       "      <td>...</td>\n",
       "      <td>...</td>\n",
       "      <td>...</td>\n",
       "      <td>...</td>\n",
       "      <td>...</td>\n",
       "      <td>...</td>\n",
       "      <td>...</td>\n",
       "      <td>...</td>\n",
       "      <td>...</td>\n",
       "      <td>...</td>\n",
       "      <td>...</td>\n",
       "      <td>...</td>\n",
       "      <td>...</td>\n",
       "    </tr>\n",
       "    <tr>\n",
       "      <th>20118</th>\n",
       "      <td>NaN</td>\n",
       "      <td>NaN</td>\n",
       "      <td>NaN</td>\n",
       "      <td>10,381</td>\n",
       "      <td>832</td>\n",
       "      <td>Stage shows</td>\n",
       "      <td>NaN</td>\n",
       "      <td>28 Jun, 2005</td>\n",
       "      <td>Apr 15 2010</td>\n",
       "      <td>NaN</td>\n",
       "      <td>NaN</td>\n",
       "      <td>Sallam Karachi</td>\n",
       "      <td>17,906</td>\n",
       "      <td>NaN</td>\n",
       "    </tr>\n",
       "    <tr>\n",
       "      <th>20271</th>\n",
       "      <td>NaN</td>\n",
       "      <td>NaN</td>\n",
       "      <td>NaN</td>\n",
       "      <td>5,575</td>\n",
       "      <td>279</td>\n",
       "      <td>Anime / Kids</td>\n",
       "      <td>NaN</td>\n",
       "      <td>29 Jun, 1998</td>\n",
       "      <td>Jun 29 1998</td>\n",
       "      <td>NaN</td>\n",
       "      <td>NaN</td>\n",
       "      <td>Antz 1998</td>\n",
       "      <td>15,862</td>\n",
       "      <td>NaN</td>\n",
       "    </tr>\n",
       "    <tr>\n",
       "      <th>20458</th>\n",
       "      <td>NaN</td>\n",
       "      <td>NaN</td>\n",
       "      <td>NaN</td>\n",
       "      <td>3,002</td>\n",
       "      <td>129</td>\n",
       "      <td>Stage shows</td>\n",
       "      <td>NaN</td>\n",
       "      <td>01 Jan, 1970</td>\n",
       "      <td>Jan 01 1970</td>\n",
       "      <td>NaN</td>\n",
       "      <td>NaN</td>\n",
       "      <td>Munda Pangi Sal Da</td>\n",
       "      <td>6,362</td>\n",
       "      <td>NaN</td>\n",
       "    </tr>\n",
       "    <tr>\n",
       "      <th>20459</th>\n",
       "      <td>NaN</td>\n",
       "      <td>NaN</td>\n",
       "      <td>NaN</td>\n",
       "      <td>2,628</td>\n",
       "      <td>130</td>\n",
       "      <td>Stage shows</td>\n",
       "      <td>NaN</td>\n",
       "      <td>01 Jan, 1970</td>\n",
       "      <td>Jan 01 1970</td>\n",
       "      <td>NaN</td>\n",
       "      <td>NaN</td>\n",
       "      <td>Rusmalaiyan</td>\n",
       "      <td>3,928</td>\n",
       "      <td>NaN</td>\n",
       "    </tr>\n",
       "    <tr>\n",
       "      <th>20460</th>\n",
       "      <td>NaN</td>\n",
       "      <td>NaN</td>\n",
       "      <td>NaN</td>\n",
       "      <td>2,414</td>\n",
       "      <td>131</td>\n",
       "      <td>Stage shows</td>\n",
       "      <td>NaN</td>\n",
       "      <td>01 Jan, 1970</td>\n",
       "      <td>Jan 01 1970</td>\n",
       "      <td>NaN</td>\n",
       "      <td>NaN</td>\n",
       "      <td>Sohni Day Nakhray Baday</td>\n",
       "      <td>3,960</td>\n",
       "      <td>NaN</td>\n",
       "    </tr>\n",
       "  </tbody>\n",
       "</table>\n",
       "<p>545 rows × 14 columns</p>\n",
       "</div>"
      ],
      "text/plain": [
       "       IMDb-rating appropriate_for         director downloads      id  \\\n",
       "291            NaN             NaN              NaN       265  370047   \n",
       "396            5.6            TV-G  Michael Lembeck       193  369257   \n",
       "518            NaN             NaN              NaN     2,847  368289   \n",
       "1453           5.5             NaN    Nyla Innuksuk       593  361520   \n",
       "1637           7.5        Approved      Kirk Harris       580  359910   \n",
       "...            ...             ...              ...       ...     ...   \n",
       "20118          NaN             NaN              NaN    10,381     832   \n",
       "20271          NaN             NaN              NaN     5,575     279   \n",
       "20458          NaN             NaN              NaN     3,002     129   \n",
       "20459          NaN             NaN              NaN     2,628     130   \n",
       "20460          NaN             NaN              NaN     2,414     131   \n",
       "\n",
       "                  industry language   posted_date release_date run_time  \\\n",
       "291              Wrestling      NaN  06 Jan, 2023  Jan 05 2023      NaN   \n",
       "396    Hollywood / English      NaN  17 Dec, 2022  Dec 16 2022      NaN   \n",
       "518              Wrestling      NaN  26 Nov, 2022  Nov 25 2022      NaN   \n",
       "1453   Hollywood / English      NaN  27 Jun, 2022  Jun 24 2022       86   \n",
       "1637   Hollywood / English      NaN  21 May, 2022  Apr 01 2022       96   \n",
       "...                    ...      ...           ...          ...      ...   \n",
       "20118          Stage shows      NaN  28 Jun, 2005  Apr 15 2010      NaN   \n",
       "20271         Anime / Kids      NaN  29 Jun, 1998  Jun 29 1998      NaN   \n",
       "20458          Stage shows      NaN  01 Jan, 1970  Jan 01 1970      NaN   \n",
       "20459          Stage shows      NaN  01 Jan, 1970  Jan 01 1970      NaN   \n",
       "20460          Stage shows      NaN  01 Jan, 1970  Jan 01 1970      NaN   \n",
       "\n",
       "                                               storyline  \\\n",
       "291                                                  NaN   \n",
       "396    Your\\r\\n family is in for a flurry of fun with...   \n",
       "518                                                  NaN   \n",
       "1453   When\\r\\n Maika and her ragtag friends discover...   \n",
       "1637   It centers on Kate, a widow who lost her husba...   \n",
       "...                                                  ...   \n",
       "20118                                                NaN   \n",
       "20271                                                NaN   \n",
       "20458                                                NaN   \n",
       "20459                                                NaN   \n",
       "20460                                                NaN   \n",
       "\n",
       "                          title   views  \\\n",
       "291       TNA.Impact 2023-01-05   1,266   \n",
       "396                    Snow Day   3,284   \n",
       "518    WWE Smackdown 2022-11-26   7,356   \n",
       "1453                 Slash/Back   6,863   \n",
       "1637                     Dakota   5,869   \n",
       "...                         ...     ...   \n",
       "20118            Sallam Karachi  17,906   \n",
       "20271                 Antz 1998  15,862   \n",
       "20458        Munda Pangi Sal Da   6,362   \n",
       "20459               Rusmalaiyan   3,928   \n",
       "20460   Sohni Day Nakhray Baday   3,960   \n",
       "\n",
       "                                             writer  \n",
       "291                                             NaN  \n",
       "396    Samantha Martin, Will McRobb, Chris Viscardi  \n",
       "518                                             NaN  \n",
       "1453                      Ryan Cavan, Nyla Innuksuk  \n",
       "1637                              Johnny Harrington  \n",
       "...                                             ...  \n",
       "20118                                           NaN  \n",
       "20271                                           NaN  \n",
       "20458                                           NaN  \n",
       "20459                                           NaN  \n",
       "20460                                           NaN  \n",
       "\n",
       "[545 rows x 14 columns]"
      ]
     },
     "execution_count": 56,
     "metadata": {},
     "output_type": "execute_result"
    }
   ],
   "source": [
    "rows_can_fix = movie[movie['language'].isnull()&movie['industry'].notnull()]\n",
    "rows_can_fix"
   ]
  },
  {
   "cell_type": "code",
   "execution_count": 57,
   "id": "903f250ff4183dd4",
   "metadata": {
    "ExecuteTime": {
     "end_time": "2024-03-28T16:09:48.601067900Z",
     "start_time": "2024-03-28T16:09:48.547186800Z"
    },
    "collapsed": false
   },
   "outputs": [
    {
     "data": {
      "text/html": [
       "<div>\n",
       "<style scoped>\n",
       "    .dataframe tbody tr th:only-of-type {\n",
       "        vertical-align: middle;\n",
       "    }\n",
       "\n",
       "    .dataframe tbody tr th {\n",
       "        vertical-align: top;\n",
       "    }\n",
       "\n",
       "    .dataframe thead th {\n",
       "        text-align: right;\n",
       "    }\n",
       "</style>\n",
       "<table border=\"1\" class=\"dataframe\">\n",
       "  <thead>\n",
       "    <tr style=\"text-align: right;\">\n",
       "      <th></th>\n",
       "      <th>IMDb-rating</th>\n",
       "      <th>appropriate_for</th>\n",
       "      <th>director</th>\n",
       "      <th>downloads</th>\n",
       "      <th>id</th>\n",
       "      <th>industry</th>\n",
       "      <th>language</th>\n",
       "      <th>posted_date</th>\n",
       "      <th>release_date</th>\n",
       "      <th>run_time</th>\n",
       "      <th>storyline</th>\n",
       "      <th>title</th>\n",
       "      <th>views</th>\n",
       "      <th>writer</th>\n",
       "    </tr>\n",
       "  </thead>\n",
       "  <tbody>\n",
       "    <tr>\n",
       "      <th>291</th>\n",
       "      <td>NaN</td>\n",
       "      <td>NaN</td>\n",
       "      <td>NaN</td>\n",
       "      <td>265</td>\n",
       "      <td>370047</td>\n",
       "      <td>Wrestling</td>\n",
       "      <td>NaN</td>\n",
       "      <td>06 Jan, 2023</td>\n",
       "      <td>Jan 05 2023</td>\n",
       "      <td>NaN</td>\n",
       "      <td>NaN</td>\n",
       "      <td>TNA.Impact 2023-01-05</td>\n",
       "      <td>1,266</td>\n",
       "      <td>NaN</td>\n",
       "    </tr>\n",
       "    <tr>\n",
       "      <th>396</th>\n",
       "      <td>5.6</td>\n",
       "      <td>TV-G</td>\n",
       "      <td>Michael Lembeck</td>\n",
       "      <td>193</td>\n",
       "      <td>369257</td>\n",
       "      <td>Hollywood / English</td>\n",
       "      <td>English</td>\n",
       "      <td>17 Dec, 2022</td>\n",
       "      <td>Dec 16 2022</td>\n",
       "      <td>NaN</td>\n",
       "      <td>Your\\r\\n family is in for a flurry of fun with...</td>\n",
       "      <td>Snow Day</td>\n",
       "      <td>3,284</td>\n",
       "      <td>Samantha Martin, Will McRobb, Chris Viscardi</td>\n",
       "    </tr>\n",
       "    <tr>\n",
       "      <th>518</th>\n",
       "      <td>NaN</td>\n",
       "      <td>NaN</td>\n",
       "      <td>NaN</td>\n",
       "      <td>2,847</td>\n",
       "      <td>368289</td>\n",
       "      <td>Wrestling</td>\n",
       "      <td>NaN</td>\n",
       "      <td>26 Nov, 2022</td>\n",
       "      <td>Nov 25 2022</td>\n",
       "      <td>NaN</td>\n",
       "      <td>NaN</td>\n",
       "      <td>WWE Smackdown 2022-11-26</td>\n",
       "      <td>7,356</td>\n",
       "      <td>NaN</td>\n",
       "    </tr>\n",
       "    <tr>\n",
       "      <th>1453</th>\n",
       "      <td>5.5</td>\n",
       "      <td>NaN</td>\n",
       "      <td>Nyla Innuksuk</td>\n",
       "      <td>593</td>\n",
       "      <td>361520</td>\n",
       "      <td>Hollywood / English</td>\n",
       "      <td>English</td>\n",
       "      <td>27 Jun, 2022</td>\n",
       "      <td>Jun 24 2022</td>\n",
       "      <td>86</td>\n",
       "      <td>When\\r\\n Maika and her ragtag friends discover...</td>\n",
       "      <td>Slash/Back</td>\n",
       "      <td>6,863</td>\n",
       "      <td>Ryan Cavan, Nyla Innuksuk</td>\n",
       "    </tr>\n",
       "    <tr>\n",
       "      <th>1637</th>\n",
       "      <td>7.5</td>\n",
       "      <td>Approved</td>\n",
       "      <td>Kirk Harris</td>\n",
       "      <td>580</td>\n",
       "      <td>359910</td>\n",
       "      <td>Hollywood / English</td>\n",
       "      <td>English</td>\n",
       "      <td>21 May, 2022</td>\n",
       "      <td>Apr 01 2022</td>\n",
       "      <td>96</td>\n",
       "      <td>It centers on Kate, a widow who lost her husba...</td>\n",
       "      <td>Dakota</td>\n",
       "      <td>5,869</td>\n",
       "      <td>Johnny Harrington</td>\n",
       "    </tr>\n",
       "    <tr>\n",
       "      <th>...</th>\n",
       "      <td>...</td>\n",
       "      <td>...</td>\n",
       "      <td>...</td>\n",
       "      <td>...</td>\n",
       "      <td>...</td>\n",
       "      <td>...</td>\n",
       "      <td>...</td>\n",
       "      <td>...</td>\n",
       "      <td>...</td>\n",
       "      <td>...</td>\n",
       "      <td>...</td>\n",
       "      <td>...</td>\n",
       "      <td>...</td>\n",
       "      <td>...</td>\n",
       "    </tr>\n",
       "    <tr>\n",
       "      <th>20118</th>\n",
       "      <td>NaN</td>\n",
       "      <td>NaN</td>\n",
       "      <td>NaN</td>\n",
       "      <td>10,381</td>\n",
       "      <td>832</td>\n",
       "      <td>Stage shows</td>\n",
       "      <td>NaN</td>\n",
       "      <td>28 Jun, 2005</td>\n",
       "      <td>Apr 15 2010</td>\n",
       "      <td>NaN</td>\n",
       "      <td>NaN</td>\n",
       "      <td>Sallam Karachi</td>\n",
       "      <td>17,906</td>\n",
       "      <td>NaN</td>\n",
       "    </tr>\n",
       "    <tr>\n",
       "      <th>20271</th>\n",
       "      <td>NaN</td>\n",
       "      <td>NaN</td>\n",
       "      <td>NaN</td>\n",
       "      <td>5,575</td>\n",
       "      <td>279</td>\n",
       "      <td>Anime / Kids</td>\n",
       "      <td>Kids</td>\n",
       "      <td>29 Jun, 1998</td>\n",
       "      <td>Jun 29 1998</td>\n",
       "      <td>NaN</td>\n",
       "      <td>NaN</td>\n",
       "      <td>Antz 1998</td>\n",
       "      <td>15,862</td>\n",
       "      <td>NaN</td>\n",
       "    </tr>\n",
       "    <tr>\n",
       "      <th>20458</th>\n",
       "      <td>NaN</td>\n",
       "      <td>NaN</td>\n",
       "      <td>NaN</td>\n",
       "      <td>3,002</td>\n",
       "      <td>129</td>\n",
       "      <td>Stage shows</td>\n",
       "      <td>NaN</td>\n",
       "      <td>01 Jan, 1970</td>\n",
       "      <td>Jan 01 1970</td>\n",
       "      <td>NaN</td>\n",
       "      <td>NaN</td>\n",
       "      <td>Munda Pangi Sal Da</td>\n",
       "      <td>6,362</td>\n",
       "      <td>NaN</td>\n",
       "    </tr>\n",
       "    <tr>\n",
       "      <th>20459</th>\n",
       "      <td>NaN</td>\n",
       "      <td>NaN</td>\n",
       "      <td>NaN</td>\n",
       "      <td>2,628</td>\n",
       "      <td>130</td>\n",
       "      <td>Stage shows</td>\n",
       "      <td>NaN</td>\n",
       "      <td>01 Jan, 1970</td>\n",
       "      <td>Jan 01 1970</td>\n",
       "      <td>NaN</td>\n",
       "      <td>NaN</td>\n",
       "      <td>Rusmalaiyan</td>\n",
       "      <td>3,928</td>\n",
       "      <td>NaN</td>\n",
       "    </tr>\n",
       "    <tr>\n",
       "      <th>20460</th>\n",
       "      <td>NaN</td>\n",
       "      <td>NaN</td>\n",
       "      <td>NaN</td>\n",
       "      <td>2,414</td>\n",
       "      <td>131</td>\n",
       "      <td>Stage shows</td>\n",
       "      <td>NaN</td>\n",
       "      <td>01 Jan, 1970</td>\n",
       "      <td>Jan 01 1970</td>\n",
       "      <td>NaN</td>\n",
       "      <td>NaN</td>\n",
       "      <td>Sohni Day Nakhray Baday</td>\n",
       "      <td>3,960</td>\n",
       "      <td>NaN</td>\n",
       "    </tr>\n",
       "  </tbody>\n",
       "</table>\n",
       "<p>545 rows × 14 columns</p>\n",
       "</div>"
      ],
      "text/plain": [
       "       IMDb-rating appropriate_for         director downloads      id  \\\n",
       "291            NaN             NaN              NaN       265  370047   \n",
       "396            5.6            TV-G  Michael Lembeck       193  369257   \n",
       "518            NaN             NaN              NaN     2,847  368289   \n",
       "1453           5.5             NaN    Nyla Innuksuk       593  361520   \n",
       "1637           7.5        Approved      Kirk Harris       580  359910   \n",
       "...            ...             ...              ...       ...     ...   \n",
       "20118          NaN             NaN              NaN    10,381     832   \n",
       "20271          NaN             NaN              NaN     5,575     279   \n",
       "20458          NaN             NaN              NaN     3,002     129   \n",
       "20459          NaN             NaN              NaN     2,628     130   \n",
       "20460          NaN             NaN              NaN     2,414     131   \n",
       "\n",
       "                  industry language   posted_date release_date run_time  \\\n",
       "291              Wrestling      NaN  06 Jan, 2023  Jan 05 2023      NaN   \n",
       "396    Hollywood / English  English  17 Dec, 2022  Dec 16 2022      NaN   \n",
       "518              Wrestling      NaN  26 Nov, 2022  Nov 25 2022      NaN   \n",
       "1453   Hollywood / English  English  27 Jun, 2022  Jun 24 2022       86   \n",
       "1637   Hollywood / English  English  21 May, 2022  Apr 01 2022       96   \n",
       "...                    ...      ...           ...          ...      ...   \n",
       "20118          Stage shows      NaN  28 Jun, 2005  Apr 15 2010      NaN   \n",
       "20271         Anime / Kids     Kids  29 Jun, 1998  Jun 29 1998      NaN   \n",
       "20458          Stage shows      NaN  01 Jan, 1970  Jan 01 1970      NaN   \n",
       "20459          Stage shows      NaN  01 Jan, 1970  Jan 01 1970      NaN   \n",
       "20460          Stage shows      NaN  01 Jan, 1970  Jan 01 1970      NaN   \n",
       "\n",
       "                                               storyline  \\\n",
       "291                                                  NaN   \n",
       "396    Your\\r\\n family is in for a flurry of fun with...   \n",
       "518                                                  NaN   \n",
       "1453   When\\r\\n Maika and her ragtag friends discover...   \n",
       "1637   It centers on Kate, a widow who lost her husba...   \n",
       "...                                                  ...   \n",
       "20118                                                NaN   \n",
       "20271                                                NaN   \n",
       "20458                                                NaN   \n",
       "20459                                                NaN   \n",
       "20460                                                NaN   \n",
       "\n",
       "                          title   views  \\\n",
       "291       TNA.Impact 2023-01-05   1,266   \n",
       "396                    Snow Day   3,284   \n",
       "518    WWE Smackdown 2022-11-26   7,356   \n",
       "1453                 Slash/Back   6,863   \n",
       "1637                     Dakota   5,869   \n",
       "...                         ...     ...   \n",
       "20118            Sallam Karachi  17,906   \n",
       "20271                 Antz 1998  15,862   \n",
       "20458        Munda Pangi Sal Da   6,362   \n",
       "20459               Rusmalaiyan   3,928   \n",
       "20460   Sohni Day Nakhray Baday   3,960   \n",
       "\n",
       "                                             writer  \n",
       "291                                             NaN  \n",
       "396    Samantha Martin, Will McRobb, Chris Viscardi  \n",
       "518                                             NaN  \n",
       "1453                      Ryan Cavan, Nyla Innuksuk  \n",
       "1637                              Johnny Harrington  \n",
       "...                                             ...  \n",
       "20118                                           NaN  \n",
       "20271                                           NaN  \n",
       "20458                                           NaN  \n",
       "20459                                           NaN  \n",
       "20460                                           NaN  \n",
       "\n",
       "[545 rows x 14 columns]"
      ]
     },
     "execution_count": 57,
     "metadata": {},
     "output_type": "execute_result"
    }
   ],
   "source": [
    "import numpy as np\n",
    "rows_can_fix.loc[:, 'language'] = rows_can_fix['industry'].apply(lambda x: x.split()[-1] if '/' in x else np.nan)\n",
    "rows_can_fix"
   ]
  },
  {
   "cell_type": "markdown",
   "id": "5603990e687782c0",
   "metadata": {
    "collapsed": false
   },
   "source": [
    "修复结果如上\n",
    "3.3 用数据对象之间的相似性填补缺失值"
   ]
  },
  {
   "cell_type": "code",
   "execution_count": 58,
   "id": "8843d54a55705d91",
   "metadata": {
    "ExecuteTime": {
     "end_time": "2024-03-28T16:10:25.786700Z",
     "start_time": "2024-03-28T16:09:48.570712400Z"
    },
    "collapsed": false
   },
   "outputs": [
    {
     "data": {
      "text/html": [
       "<div>\n",
       "<style scoped>\n",
       "    .dataframe tbody tr th:only-of-type {\n",
       "        vertical-align: middle;\n",
       "    }\n",
       "\n",
       "    .dataframe tbody tr th {\n",
       "        vertical-align: top;\n",
       "    }\n",
       "\n",
       "    .dataframe thead th {\n",
       "        text-align: right;\n",
       "    }\n",
       "</style>\n",
       "<table border=\"1\" class=\"dataframe\">\n",
       "  <thead>\n",
       "    <tr style=\"text-align: right;\">\n",
       "      <th></th>\n",
       "      <th>IMDb-rating</th>\n",
       "      <th>appropriate_for</th>\n",
       "      <th>director</th>\n",
       "      <th>downloads</th>\n",
       "      <th>id</th>\n",
       "      <th>industry</th>\n",
       "      <th>language</th>\n",
       "      <th>posted_date</th>\n",
       "      <th>release_date</th>\n",
       "      <th>run_time</th>\n",
       "      <th>storyline</th>\n",
       "      <th>title</th>\n",
       "      <th>views</th>\n",
       "      <th>writer</th>\n",
       "    </tr>\n",
       "  </thead>\n",
       "  <tbody>\n",
       "    <tr>\n",
       "      <th>3</th>\n",
       "      <td>7.5</td>\n",
       "      <td>R</td>\n",
       "      <td>James Toback</td>\n",
       "      <td>1693.0</td>\n",
       "      <td>398</td>\n",
       "      <td>Hollywood / English</td>\n",
       "      <td>English</td>\n",
       "      <td>27 Mar, 2009</td>\n",
       "      <td>Mar 27 2009</td>\n",
       "      <td>90.0</td>\n",
       "      <td>Mike Tyson narrates his life story as a reacti...</td>\n",
       "      <td>Tyson</td>\n",
       "      <td>4793.0</td>\n",
       "      <td>James Toback</td>\n",
       "    </tr>\n",
       "    <tr>\n",
       "      <th>4</th>\n",
       "      <td>6.0</td>\n",
       "      <td>R</td>\n",
       "      <td>Miranda Bailey</td>\n",
       "      <td>395.0</td>\n",
       "      <td>312018</td>\n",
       "      <td>Hollywood / English</td>\n",
       "      <td>English</td>\n",
       "      <td>13 Sep, 2019</td>\n",
       "      <td>Jun 21 2019</td>\n",
       "      <td>109.0</td>\n",
       "      <td>A normal father's family life is turned upside...</td>\n",
       "      <td>You Can Choose Your Family (Being Frank)</td>\n",
       "      <td>2519.0</td>\n",
       "      <td>Glen Lakin</td>\n",
       "    </tr>\n",
       "    <tr>\n",
       "      <th>5</th>\n",
       "      <td>5.6</td>\n",
       "      <td>PG</td>\n",
       "      <td>Simon Wincer</td>\n",
       "      <td>584.0</td>\n",
       "      <td>9918</td>\n",
       "      <td>Hollywood / English</td>\n",
       "      <td>English,Arabic</td>\n",
       "      <td>05 Mar, 2012</td>\n",
       "      <td>Mar 03 2012</td>\n",
       "      <td>99.0</td>\n",
       "      <td>Born into a legendary racing family, jockeys D...</td>\n",
       "      <td>The Cup</td>\n",
       "      <td>3027.0</td>\n",
       "      <td>Eric O'Keefe, Simon Wincer</td>\n",
       "    </tr>\n",
       "    <tr>\n",
       "      <th>6</th>\n",
       "      <td>5.2</td>\n",
       "      <td>R</td>\n",
       "      <td>Paul Solet</td>\n",
       "      <td>5075.0</td>\n",
       "      <td>5227</td>\n",
       "      <td>Hollywood / English</td>\n",
       "      <td>English</td>\n",
       "      <td>06 Jan, 2011</td>\n",
       "      <td>Nov 07 2009</td>\n",
       "      <td>85.0</td>\n",
       "      <td>Madeline Matheson is eight months pregnant and...</td>\n",
       "      <td>Grace</td>\n",
       "      <td>12113.0</td>\n",
       "      <td>Paul Solet</td>\n",
       "    </tr>\n",
       "    <tr>\n",
       "      <th>9</th>\n",
       "      <td>6.1</td>\n",
       "      <td>R</td>\n",
       "      <td>Clark Gregg</td>\n",
       "      <td>1900.0</td>\n",
       "      <td>93653</td>\n",
       "      <td>Hollywood / English</td>\n",
       "      <td>English</td>\n",
       "      <td>09 May, 2014</td>\n",
       "      <td>Apr 20 2013</td>\n",
       "      <td>90.0</td>\n",
       "      <td>A struggling agent for child actors and former...</td>\n",
       "      <td>Trust Me</td>\n",
       "      <td>9771.0</td>\n",
       "      <td>Clark Gregg</td>\n",
       "    </tr>\n",
       "    <tr>\n",
       "      <th>...</th>\n",
       "      <td>...</td>\n",
       "      <td>...</td>\n",
       "      <td>...</td>\n",
       "      <td>...</td>\n",
       "      <td>...</td>\n",
       "      <td>...</td>\n",
       "      <td>...</td>\n",
       "      <td>...</td>\n",
       "      <td>...</td>\n",
       "      <td>...</td>\n",
       "      <td>...</td>\n",
       "      <td>...</td>\n",
       "      <td>...</td>\n",
       "      <td>...</td>\n",
       "    </tr>\n",
       "    <tr>\n",
       "      <th>20543</th>\n",
       "      <td>8.1</td>\n",
       "      <td>R</td>\n",
       "      <td>Joel Coen, Ethan Coen</td>\n",
       "      <td>2004.0</td>\n",
       "      <td>11892</td>\n",
       "      <td>Hollywood / English</td>\n",
       "      <td>English</td>\n",
       "      <td>04 Oct, 2012</td>\n",
       "      <td>Apr 05 1996</td>\n",
       "      <td>98.0</td>\n",
       "      <td>Jerry works in his father-in-law's car dealers...</td>\n",
       "      <td>Fargo</td>\n",
       "      <td>6185.0</td>\n",
       "      <td>Ethan Coen, Joel Coen</td>\n",
       "    </tr>\n",
       "    <tr>\n",
       "      <th>20544</th>\n",
       "      <td>5.2</td>\n",
       "      <td>Not Rated</td>\n",
       "      <td>Turner Clay</td>\n",
       "      <td>6072.0</td>\n",
       "      <td>12222</td>\n",
       "      <td>Hollywood / English</td>\n",
       "      <td>English</td>\n",
       "      <td>02 Jan, 2013</td>\n",
       "      <td>Jan 01 2013</td>\n",
       "      <td>90.0</td>\n",
       "      <td>Chaos consumes a small town when a chemical fa...</td>\n",
       "      <td>State of Emergency</td>\n",
       "      <td>16127.0</td>\n",
       "      <td>Turner Clay</td>\n",
       "    </tr>\n",
       "    <tr>\n",
       "      <th>20545</th>\n",
       "      <td>5.5</td>\n",
       "      <td>R</td>\n",
       "      <td>Robert Lieberman</td>\n",
       "      <td>3280.0</td>\n",
       "      <td>3235</td>\n",
       "      <td>Hollywood / English</td>\n",
       "      <td>English</td>\n",
       "      <td>25 Oct, 2010</td>\n",
       "      <td>Jan 01 1970</td>\n",
       "      <td>79.0</td>\n",
       "      <td>In Rutland Country, the six year-old Benjamin ...</td>\n",
       "      <td>The Tortured</td>\n",
       "      <td>6690.0</td>\n",
       "      <td>Marek Posival</td>\n",
       "    </tr>\n",
       "    <tr>\n",
       "      <th>20546</th>\n",
       "      <td>6.3</td>\n",
       "      <td>PG</td>\n",
       "      <td>Sue Ann Taylor</td>\n",
       "      <td>65.0</td>\n",
       "      <td>336256</td>\n",
       "      <td>Hollywood / English</td>\n",
       "      <td>English</td>\n",
       "      <td>17 Nov, 2020</td>\n",
       "      <td>Nov 10 2020</td>\n",
       "      <td>94.0</td>\n",
       "      <td>Coming home from his last deployment, Sgt. Maj...</td>\n",
       "      <td>Charlie's Christmas Wish</td>\n",
       "      <td>1400.0</td>\n",
       "      <td>Sue Ann Taylor</td>\n",
       "    </tr>\n",
       "    <tr>\n",
       "      <th>20547</th>\n",
       "      <td>3.5</td>\n",
       "      <td>R</td>\n",
       "      <td>Scott Phillips</td>\n",
       "      <td>2609.0</td>\n",
       "      <td>1043</td>\n",
       "      <td>Hollywood / English</td>\n",
       "      <td>English</td>\n",
       "      <td>04 May, 2010</td>\n",
       "      <td>May 04 2010</td>\n",
       "      <td>88.0</td>\n",
       "      <td>In a sleepy and uneventful small town, three c...</td>\n",
       "      <td>Meadowoods</td>\n",
       "      <td>6691.0</td>\n",
       "      <td>Stuart Ball, Scott Phillips</td>\n",
       "    </tr>\n",
       "  </tbody>\n",
       "</table>\n",
       "<p>10646 rows × 14 columns</p>\n",
       "</div>"
      ],
      "text/plain": [
       "       IMDb-rating appropriate_for               director  downloads      id  \\\n",
       "3              7.5               R           James Toback     1693.0     398   \n",
       "4              6.0               R         Miranda Bailey      395.0  312018   \n",
       "5              5.6              PG           Simon Wincer      584.0    9918   \n",
       "6              5.2               R             Paul Solet     5075.0    5227   \n",
       "9              6.1               R            Clark Gregg     1900.0   93653   \n",
       "...            ...             ...                    ...        ...     ...   \n",
       "20543          8.1               R  Joel Coen, Ethan Coen     2004.0   11892   \n",
       "20544          5.2       Not Rated            Turner Clay     6072.0   12222   \n",
       "20545          5.5               R       Robert Lieberman     3280.0    3235   \n",
       "20546          6.3              PG         Sue Ann Taylor       65.0  336256   \n",
       "20547          3.5               R         Scott Phillips     2609.0    1043   \n",
       "\n",
       "                  industry        language   posted_date release_date  \\\n",
       "3      Hollywood / English         English  27 Mar, 2009  Mar 27 2009   \n",
       "4      Hollywood / English         English  13 Sep, 2019  Jun 21 2019   \n",
       "5      Hollywood / English  English,Arabic  05 Mar, 2012  Mar 03 2012   \n",
       "6      Hollywood / English         English  06 Jan, 2011  Nov 07 2009   \n",
       "9      Hollywood / English         English  09 May, 2014  Apr 20 2013   \n",
       "...                    ...             ...           ...          ...   \n",
       "20543  Hollywood / English         English  04 Oct, 2012  Apr 05 1996   \n",
       "20544  Hollywood / English         English  02 Jan, 2013  Jan 01 2013   \n",
       "20545  Hollywood / English         English  25 Oct, 2010  Jan 01 1970   \n",
       "20546  Hollywood / English         English  17 Nov, 2020  Nov 10 2020   \n",
       "20547  Hollywood / English         English  04 May, 2010  May 04 2010   \n",
       "\n",
       "       run_time                                          storyline  \\\n",
       "3          90.0  Mike Tyson narrates his life story as a reacti...   \n",
       "4         109.0  A normal father's family life is turned upside...   \n",
       "5          99.0  Born into a legendary racing family, jockeys D...   \n",
       "6          85.0  Madeline Matheson is eight months pregnant and...   \n",
       "9          90.0  A struggling agent for child actors and former...   \n",
       "...         ...                                                ...   \n",
       "20543      98.0  Jerry works in his father-in-law's car dealers...   \n",
       "20544      90.0  Chaos consumes a small town when a chemical fa...   \n",
       "20545      79.0  In Rutland Country, the six year-old Benjamin ...   \n",
       "20546      94.0  Coming home from his last deployment, Sgt. Maj...   \n",
       "20547      88.0  In a sleepy and uneventful small town, three c...   \n",
       "\n",
       "                                          title    views  \\\n",
       "3                                         Tyson   4793.0   \n",
       "4      You Can Choose Your Family (Being Frank)   2519.0   \n",
       "5                                       The Cup   3027.0   \n",
       "6                                         Grace  12113.0   \n",
       "9                                      Trust Me   9771.0   \n",
       "...                                         ...      ...   \n",
       "20543                                     Fargo   6185.0   \n",
       "20544                        State of Emergency  16127.0   \n",
       "20545                              The Tortured   6690.0   \n",
       "20546                  Charlie's Christmas Wish   1400.0   \n",
       "20547                                Meadowoods   6691.0   \n",
       "\n",
       "                            writer  \n",
       "3                     James Toback  \n",
       "4                       Glen Lakin  \n",
       "5       Eric O'Keefe, Simon Wincer  \n",
       "6                       Paul Solet  \n",
       "9                      Clark Gregg  \n",
       "...                            ...  \n",
       "20543        Ethan Coen, Joel Coen  \n",
       "20544                  Turner Clay  \n",
       "20545                Marek Posival  \n",
       "20546               Sue Ann Taylor  \n",
       "20547  Stuart Ball, Scott Phillips  \n",
       "\n",
       "[10646 rows x 14 columns]"
      ]
     },
     "execution_count": 58,
     "metadata": {},
     "output_type": "execute_result"
    }
   ],
   "source": [
    "from sklearn.metrics.pairwise import nan_euclidean_distances\n",
    "\n",
    "movie['views'] = num_views\n",
    "movie['downloads'] = num_downloads\n",
    "def convert_to_minutes(duration):\n",
    "    if pd.isna(duration):\n",
    "        return duration\n",
    "    elif 'h' in str(duration) or 'm' in str(duration):\n",
    "        return pd.to_timedelta(duration).total_seconds()/60\n",
    "    else:\n",
    "        return pd.to_numeric(duration)\n",
    "movie['run_time'] = movie['run_time'].apply(convert_to_minutes)\n",
    "rows_with_missing = movie[movie.isnull().any(axis=1)]\n",
    "numeric_rows_with = rows_with_missing[['views','downloads','IMDb-rating','run_time']]\n",
    "rows_without_missing = movie[~movie.isnull().any(axis=1)]\n",
    "numeric_rows_without = rows_without_missing[['views','downloads','IMDb-rating','run_time']]\n",
    "interpoted = rows_with_missing.copy()\n",
    "for row in numeric_rows_with.itertuples():\n",
    "    # 计算当前行与其他行的欧氏距离，忽略NaN值\n",
    "    distances = nan_euclidean_distances([numeric_rows_with.loc[row.Index]], numeric_rows_without)[0]\n",
    "    nearest_row_index = np.argmin(distances)\n",
    "    nearest_row = rows_without_missing.iloc[nearest_row_index]\n",
    "    # 使用最近邻行的值填充缺失值\n",
    "    interpoted.loc[row.Index] = nearest_row\n",
    "\n",
    "interpoted"
   ]
  }
 ],
 "metadata": {
  "kernelspec": {
   "display_name": "Python 3 (ipykernel)",
   "language": "python",
   "name": "python3"
  },
  "language_info": {
   "codemirror_mode": {
    "name": "ipython",
    "version": 3
   },
   "file_extension": ".py",
   "mimetype": "text/x-python",
   "name": "python",
   "nbconvert_exporter": "python",
   "pygments_lexer": "ipython3",
   "version": "3.8.18"
  }
 },
 "nbformat": 4,
 "nbformat_minor": 5
}
