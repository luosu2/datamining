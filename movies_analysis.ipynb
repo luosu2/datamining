{
 "cells": [
  {
   "cell_type": "markdown",
   "source": [
    "# 数据集1: Movies Dataset from Pirated Sites\n",
    " 1. 数据摘要\n",
    "    1.1属性\n",
    "+ `IMDb-rating` 电影的IMDb评分\n",
    "+ `appropriate_for` 电影分级,R 级、PG-13 等\n",
    "+ `director` 电影导演\n",
    "+ `downloads` 下载量\n",
    "+ `id` 电影的唯一ID\n",
    "+ `industry` 电影中心\n",
    "+ `language` 语言\n",
    "+ `posted_date` 电影在平台上发布的时间\n",
    "+ `release_date` 电影在全球上映的时间\n",
    "+ `run_time` 电影时长(分钟)\n",
    "+ `storyline` 故事梗概\n",
    "+ `title` 电影标题\n",
    "+ `views` 观看量\n",
    "+ `writer` 编剧列表"
   ],
   "metadata": {
    "collapsed": false
   },
   "id": "9fe2ea10d349b698"
  },
  {
   "cell_type": "code",
   "outputs": [
    {
     "data": {
      "text/plain": "['IMDb-rating',\n 'appropriate_for',\n 'director',\n 'downloads',\n 'id',\n 'industry',\n 'language',\n 'posted_date',\n 'release_date',\n 'run_time',\n 'storyline',\n 'title',\n 'views',\n 'writer']"
     },
     "execution_count": 41,
     "metadata": {},
     "output_type": "execute_result"
    }
   ],
   "source": [
    "import pandas as pd\n",
    "movie=pd.read_csv('dataset/movies_dataset.csv')\n",
    "movie=movie.drop(columns=[\"Unnamed: 0\"],inplace=False)\n",
    "movie.columns.tolist()"
   ],
   "metadata": {
    "collapsed": false,
    "ExecuteTime": {
     "end_time": "2024-03-27T11:45:39.635837600Z",
     "start_time": "2024-03-27T11:45:39.358787900Z"
    }
   },
   "id": "81604acd2ecb90dc",
   "execution_count": 41
  },
  {
   "cell_type": "markdown",
   "source": [
    "   1.2 标称属性可能取值的频数\n",
    "+ `appropriate_for` "
   ],
   "metadata": {
    "collapsed": false
   },
   "id": "55c19b4548c2aa03"
  },
  {
   "cell_type": "code",
   "outputs": [
    {
     "data": {
      "text/plain": "appropriate_for\nR                 4384\nNot Rated         2142\nPG-13             1968\nPG                 886\nTV-14              694\nTV-MA              406\nG                  152\nUnrated            132\nTV-PG              115\nTV-G                99\nTV-Y7               45\nTV-Y                25\nApproved             9\nNC-17                4\nTV-Y7-FV             3\nPassed               3\nMA-17                1\nTV-13                1\nDrama                1\nDrama, Romance       1\n18+                  1\nName: count, dtype: int64"
     },
     "execution_count": 42,
     "metadata": {},
     "output_type": "execute_result"
    }
   ],
   "source": [
    "movie['appropriate_for'].value_counts()"
   ],
   "metadata": {
    "collapsed": false,
    "ExecuteTime": {
     "end_time": "2024-03-27T11:45:39.661350700Z",
     "start_time": "2024-03-27T11:45:39.592832200Z"
    }
   },
   "id": "4b08fd36f8c07c1",
   "execution_count": 42
  },
  {
   "cell_type": "markdown",
   "source": [
    "+ `director` 电影导演"
   ],
   "metadata": {
    "collapsed": false
   },
   "id": "92635c3df62260bf"
  },
  {
   "cell_type": "code",
   "outputs": [
    {
     "data": {
      "text/plain": "director\nVenky Atluri                                  405\nSimone Stock                                  403\nXavier Manrique                               403\nJohn Swab                                     205\nNeil Jordan                                   205\n                                             ... \nAgnieszka Smoczynska                            1\nDylan Thomas Ellis                              1\nSunil Thakur, Sunil Dhawan, Shivani Thakur      1\nSuman Mukhopadhyay                              1\nShea Sizemore                                   1\nName: count, Length: 9672, dtype: int64"
     },
     "execution_count": 43,
     "metadata": {},
     "output_type": "execute_result"
    }
   ],
   "source": [
    "movie['director'].value_counts()"
   ],
   "metadata": {
    "collapsed": false,
    "ExecuteTime": {
     "end_time": "2024-03-27T11:45:39.733356600Z",
     "start_time": "2024-03-27T11:45:39.673350700Z"
    }
   },
   "id": "f8ceb963415ec6e8",
   "execution_count": 43
  },
  {
   "cell_type": "markdown",
   "source": [
    "+ `id` 电影的唯一ID"
   ],
   "metadata": {
    "collapsed": false
   },
   "id": "6bbb074d77b54012"
  },
  {
   "cell_type": "code",
   "outputs": [
    {
     "data": {
      "text/plain": "id\n372090    402\n371744    402\n371877    402\n372092    202\n371991    202\n         ... \n303381      1\n303380      1\n303379      1\n303377      1\n30459       1\nName: count, Length: 17086, dtype: int64"
     },
     "execution_count": 44,
     "metadata": {},
     "output_type": "execute_result"
    }
   ],
   "source": [
    "movie['id'].value_counts()"
   ],
   "metadata": {
    "collapsed": false,
    "ExecuteTime": {
     "end_time": "2024-03-27T11:45:39.792867800Z",
     "start_time": "2024-03-27T11:45:39.741356200Z"
    }
   },
   "id": "2b96dc52c98e18f6",
   "execution_count": 44
  },
  {
   "cell_type": "markdown",
   "source": [
    "唯一ID却有重复值，说明数据集中有重复的电影,经过验证,数据集中有重复的电影\n",
    "+ `industry` 电影中心"
   ],
   "metadata": {
    "collapsed": false
   },
   "id": "3a90119b351c1b0c"
  },
  {
   "cell_type": "code",
   "outputs": [
    {
     "data": {
      "text/plain": "industry\nHollywood / English    14649\nBollywood / Indian      2645\nTollywood               1172\nAnime / Kids            1049\nWrestling                433\nPunjabi                  332\nStage shows              129\nPakistani                 92\nDub / Dual Audio          45\n3D Movies                  1\nName: count, dtype: int64"
     },
     "execution_count": 45,
     "metadata": {},
     "output_type": "execute_result"
    }
   ],
   "source": [
    "movie['industry'].value_counts()"
   ],
   "metadata": {
    "collapsed": false,
    "ExecuteTime": {
     "end_time": "2024-03-27T11:45:39.862386500Z",
     "start_time": "2024-03-27T11:45:39.797868100Z"
    }
   },
   "id": "84cfe56271e33d4a",
   "execution_count": 45
  },
  {
   "cell_type": "markdown",
   "source": [
    "+ `language` 语言"
   ],
   "metadata": {
    "collapsed": false
   },
   "id": "6a67d8bbe0896986"
  },
  {
   "cell_type": "code",
   "outputs": [
    {
     "data": {
      "text/plain": "language\nEnglish                                 12657\nHindi                                    2558\nEnglish,Spanish                           391\nPunjabi                                   310\nEnglish,Hindi                             304\n                                        ...  \nEnglish,Korean,Spanish                      1\nNorwegian,Swedish                           1\nSpanish,Chinese,English,Maori,French        1\nUrdu,Punjabi,English                        1\nSpanish,German,English                      1\nName: count, Length: 1167, dtype: int64"
     },
     "execution_count": 46,
     "metadata": {},
     "output_type": "execute_result"
    }
   ],
   "source": [
    "movie['language'].value_counts()"
   ],
   "metadata": {
    "collapsed": false,
    "ExecuteTime": {
     "end_time": "2024-03-27T11:45:39.918386400Z",
     "start_time": "2024-03-27T11:45:39.874386400Z"
    }
   },
   "id": "ea981eecc282eb05",
   "execution_count": 46
  },
  {
   "cell_type": "markdown",
   "source": [
    "+ `posted_date` 电影在平台上发布的时间"
   ],
   "metadata": {
    "collapsed": false
   },
   "id": "435e52c8ad9a71c3"
  },
  {
   "cell_type": "code",
   "outputs": [
    {
     "data": {
      "text/plain": "posted_date\n13 Feb, 2023    812\n20 Feb, 2023    607\n15 Feb, 2023    607\n10 Feb, 2023    485\n16 Feb, 2023    406\n               ... \n12 Sep, 2009      1\n08 Sep, 2009      1\n01 Sep, 2009      1\n18 Aug, 2009      1\n30 Nov, 2011      1\nName: count, Length: 4123, dtype: int64"
     },
     "execution_count": 47,
     "metadata": {},
     "output_type": "execute_result"
    }
   ],
   "source": [
    "movie['posted_date'].value_counts()"
   ],
   "metadata": {
    "collapsed": false,
    "ExecuteTime": {
     "end_time": "2024-03-27T11:45:40.109861200Z",
     "start_time": "2024-03-27T11:45:39.923386700Z"
    }
   },
   "id": "63b3a46ee27987c8",
   "execution_count": 47
  },
  {
   "cell_type": "markdown",
   "source": [
    "+ `release_date` 电影在全球上映的时间"
   ],
   "metadata": {
    "collapsed": false
   },
   "id": "4b23cebf377419dd"
  },
  {
   "cell_type": "code",
   "outputs": [
    {
     "data": {
      "text/plain": "release_date\nJan 01 1970    962\nFeb 03 2023    616\nFeb 17 2023    607\nFeb 10 2023    410\nFeb 11 2023    402\n              ... \nSep 05 2003      1\nDec 29 2022      1\nAug 24 2013      1\nJan 12 2014      1\nMar 28 1958      1\nName: count, Length: 4886, dtype: int64"
     },
     "execution_count": 48,
     "metadata": {},
     "output_type": "execute_result"
    }
   ],
   "source": [
    "movie['release_date'].value_counts()"
   ],
   "metadata": {
    "collapsed": false,
    "ExecuteTime": {
     "end_time": "2024-03-27T11:45:40.114126200Z",
     "start_time": "2024-03-27T11:45:39.971904800Z"
    }
   },
   "id": "89ad86b1f1cbbe6c",
   "execution_count": 48
  },
  {
   "cell_type": "markdown",
   "source": [
    "+ `writer` 编剧列表"
   ],
   "metadata": {
    "collapsed": false
   },
   "id": "be4009b7ba068d59"
  },
  {
   "cell_type": "code",
   "outputs": [
    {
     "data": {
      "text/plain": "writer\nNicholas Schutt                           403\nVenky Atluri                              402\nHaley Harris                              402\nJohn Swab                                 205\nElegance Bratton                          202\n                                         ... \nBarbara Samuels, Joseph Boyden              1\nMaria Allred                                1\nPia Mechler                                 1\nPaul Flannery, David Ryan Keith             1\nKhwaja Ahmad Abbas, Khwaja Ahmad Abbas      1\nName: count, Length: 13603, dtype: int64"
     },
     "execution_count": 49,
     "metadata": {},
     "output_type": "execute_result"
    }
   ],
   "source": [
    "movie['writer'].value_counts()"
   ],
   "metadata": {
    "collapsed": false,
    "ExecuteTime": {
     "end_time": "2024-03-27T11:45:40.207090300Z",
     "start_time": "2024-03-27T11:45:40.119137200Z"
    }
   },
   "id": "dee7df78e5e94ec7",
   "execution_count": 49
  },
  {
   "cell_type": "markdown",
   "source": [
    "+ `title` 电影标题"
   ],
   "metadata": {
    "collapsed": false
   },
   "id": "a7c8b2566e9c40b3"
  },
  {
   "cell_type": "markdown",
   "source": [],
   "metadata": {
    "collapsed": false
   },
   "id": "2ac3333efdeef9c7"
  },
  {
   "cell_type": "code",
   "outputs": [
    {
     "data": {
      "text/plain": "title\nThe Girl Who Escaped: The Kara Robinson Story    402\nVaathi                                           402\nWho Invited Charlie?                             402\nLittle Dixie                                     202\nThe Inspection                                   202\n                                                ... \nKesari                                             1\nOld Boys                                           1\nAmerican Exit                                      1\nAdventures of Aladdin                              1\nMadhumati                                          1\nName: count, Length: 16572, dtype: int64"
     },
     "execution_count": 50,
     "metadata": {},
     "output_type": "execute_result"
    }
   ],
   "source": [
    "movie['title'].value_counts()"
   ],
   "metadata": {
    "collapsed": false,
    "ExecuteTime": {
     "end_time": "2024-03-27T11:45:40.211066Z",
     "start_time": "2024-03-27T11:45:40.177739100Z"
    }
   },
   "id": "205ddd4552241af6",
   "execution_count": 50
  },
  {
   "cell_type": "markdown",
   "source": [
    "    1.3 数值属性的五数概括\n",
    "    缺失值的个数统计"
   ],
   "metadata": {
    "collapsed": false
   },
   "id": "aecb4f52f2d550c2"
  },
  {
   "cell_type": "code",
   "outputs": [
    {
     "data": {
      "text/plain": "                IMDb-rating  appropriate_for  director  downloads  industry  \\\nmissing_values          841             9476      1938          1         1   \n\n                language  posted_date  release_date  run_time  storyline  \\\nmissing_values       546            1             1      1768       1701   \n\n                title  views  writer  \nmissing_values      1      1    2192  ",
      "text/html": "<div>\n<style scoped>\n    .dataframe tbody tr th:only-of-type {\n        vertical-align: middle;\n    }\n\n    .dataframe tbody tr th {\n        vertical-align: top;\n    }\n\n    .dataframe thead th {\n        text-align: right;\n    }\n</style>\n<table border=\"1\" class=\"dataframe\">\n  <thead>\n    <tr style=\"text-align: right;\">\n      <th></th>\n      <th>IMDb-rating</th>\n      <th>appropriate_for</th>\n      <th>director</th>\n      <th>downloads</th>\n      <th>industry</th>\n      <th>language</th>\n      <th>posted_date</th>\n      <th>release_date</th>\n      <th>run_time</th>\n      <th>storyline</th>\n      <th>title</th>\n      <th>views</th>\n      <th>writer</th>\n    </tr>\n  </thead>\n  <tbody>\n    <tr>\n      <th>missing_values</th>\n      <td>841</td>\n      <td>9476</td>\n      <td>1938</td>\n      <td>1</td>\n      <td>1</td>\n      <td>546</td>\n      <td>1</td>\n      <td>1</td>\n      <td>1768</td>\n      <td>1701</td>\n      <td>1</td>\n      <td>1</td>\n      <td>2192</td>\n    </tr>\n  </tbody>\n</table>\n</div>"
     },
     "execution_count": 51,
     "metadata": {},
     "output_type": "execute_result"
    }
   ],
   "source": [
    "missing_values=movie.isnull().sum()\n",
    "missing_values=pd.DataFrame(missing_values,columns=['missing_values']).T\n",
    "missing_values=missing_values.loc[:,(missing_values!=0).any(axis=0)]\n",
    "missing_values"
   ],
   "metadata": {
    "collapsed": false,
    "ExecuteTime": {
     "end_time": "2024-03-27T11:45:40.281019600Z",
     "start_time": "2024-03-27T11:45:40.218042900Z"
    }
   },
   "id": "42bc1b917e49c73d",
   "execution_count": 51
  },
  {
   "cell_type": "code",
   "outputs": [],
   "source": [],
   "metadata": {
    "collapsed": false,
    "ExecuteTime": {
     "end_time": "2024-03-27T11:45:40.283965700Z",
     "start_time": "2024-03-27T11:45:40.263872400Z"
    }
   },
   "id": "1c15005e012ca73b",
   "execution_count": 51
  }
 ],
 "metadata": {
  "kernelspec": {
   "display_name": "Python 3",
   "language": "python",
   "name": "python3"
  },
  "language_info": {
   "codemirror_mode": {
    "name": "ipython",
    "version": 2
   },
   "file_extension": ".py",
   "mimetype": "text/x-python",
   "name": "python",
   "nbconvert_exporter": "python",
   "pygments_lexer": "ipython2",
   "version": "2.7.6"
  }
 },
 "nbformat": 4,
 "nbformat_minor": 5
}
